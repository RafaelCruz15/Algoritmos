{
 "cells": [
  {
   "cell_type": "markdown",
   "metadata": {},
   "source": [
    "# Permutaciones\n",
    "## Version usando permutaciones de Itertools"
   ]
  },
  {
   "cell_type": "code",
   "execution_count": null,
   "metadata": {},
   "outputs": [
    {
     "name": "stdout",
     "output_type": "stream",
     "text": [
      "1\n",
      "2\n",
      "3\n",
      "4\n",
      "5\n",
      "6\n",
      "7\n",
      "8\n",
      "9\n",
      "10\n"
     ]
    }
   ],
   "source": [
    "import itertools\n",
    "\n",
    "arreglo = []\n",
    "# probamos con un n = 15\n",
    "for i in range(1,15):\n",
    "    # visualizamos hasta que n pudo llegar\n",
    "    print(i)\n",
    "    arreglo.append(i)\n",
    "    p = list(itertools.permutations(arreglo, i))"
   ]
  },
  {
   "cell_type": "markdown",
   "metadata": {},
   "source": [
    "Probando con un n = 15, la memoria de la maquina virtual llega hasta un n = 10"
   ]
  },
  {
   "cell_type": "markdown",
   "metadata": {},
   "source": [
    "## Version usando el codigo de Daniel Jimenez"
   ]
  },
  {
   "cell_type": "code",
   "execution_count": null,
   "metadata": {},
   "outputs": [
    {
     "name": "stdout",
     "output_type": "stream",
     "text": [
      "1\n",
      "2\n",
      "3\n",
      "4\n",
      "5\n",
      "6\n",
      "7\n",
      "8\n"
     ]
    }
   ],
   "source": [
    "class permutaciones:\n",
    "    total = 0\n",
    "    npermut = 0\n",
    "    cases = []\n",
    "    swaps = 0\n",
    "\n",
    "    def isortSteps(self, aux):\n",
    "        steps = 0\n",
    "        v = []\n",
    "        for i in range(len(v)):\n",
    "            v[i] = aux[i]\n",
    "        for i in range(len(v)):\n",
    "            x = v[i]\n",
    "            j = i - 1\n",
    "            while ((j > -1) and (v[j] > x)):\n",
    "                v[j+1] = v[j]\n",
    "                j-=1\n",
    "                steps += 1\n",
    "            if (j != -1):\n",
    "                steps+=1;\n",
    "            v[j + 1] = x;\n",
    "        return steps\n",
    "\n",
    "    def swap(self, v, i, j):\n",
    "        t = v[i]\n",
    "        v[i] = v[j]\n",
    "        v[j] = t\n",
    "\n",
    "    def perm(self, v, i, n):\n",
    "        x = permutaciones()\n",
    "        j = 0\n",
    "        k = 0\n",
    "        l = 0\n",
    "        if(i == n):\n",
    "            # ver las permutaciones\n",
    "            #print(v)\n",
    "            k = x.isortSteps(v);\n",
    "            x.total += k\n",
    "        else:\n",
    "            j = 1\n",
    "            for j in range(n):\n",
    "                x.swap(v, i, j)\n",
    "                x.perm(v, i + 1, n)\n",
    "                x.swap(v, i, j)\n",
    "\n",
    "arreglo = []\n",
    "\n",
    "# cantidad de valores del arregloc\n",
    "n = 15\n",
    "for i in range(1, n+1):\n",
    "    arreglo.append(i)\n",
    "    y = permutaciones()\n",
    "    y.perm(arreglo, 0, len(arreglo))\n",
    "    # visualizamos hasta que n pudo llegar\n",
    "    print(i)"
   ]
  },
  {
   "cell_type": "markdown",
   "metadata": {},
   "source": [
    "Probando con un n = 15, vemos que la memoria se llena hasta un n = 8, utilizando el codigo de Daniel Jimenez"
   ]
  }
 ],
 "metadata": {
  "kernelspec": {
   "display_name": "Python 3",
   "language": "python",
   "name": "python3"
  },
  "language_info": {
   "codemirror_mode": {
    "name": "ipython",
    "version": 3
   },
   "file_extension": ".py",
   "mimetype": "text/x-python",
   "name": "python",
   "nbconvert_exporter": "python",
   "pygments_lexer": "ipython3",
   "version": "3.6.4"
  }
 },
 "nbformat": 4,
 "nbformat_minor": 2
}
