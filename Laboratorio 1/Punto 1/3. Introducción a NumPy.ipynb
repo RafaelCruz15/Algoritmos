{
 "cells": [
  {
   "cell_type": "markdown",
   "metadata": {},
   "source": [
    "# Introducción a NumPy\n",
    "\n",
    "Parte de la serie de conferencias Quantopian:\n",
    "\n",
    "* [www.quantopian.com/lectures](https://www.quantopian.com/lectures)\n",
    "* [github.com/quantopian/research_public](https://github.com/quantopian/research_public)\n",
    "\n",
    "Cuaderno publicado bajo la licencia Creative Commons Attribution 4.0."
   ]
  },
  {
   "cell_type": "markdown",
   "metadata": {},
   "source": [
    "NumPy es un paquete increíblemente poderoso en Python que es ubicuo en toda la plataforma cuántica. Tiene una fuerte integración con Pandas, otra herramienta que cubriremos en la serie de conferencias. NumPy agrega soporte para matrices multidimensionales y funciones matemáticas que le permiten realizar fácilmente cálculos de álgebra lineal. Esta conferencia será una colección de ejemplos de álgebra lineal calculada usando NumPy."
   ]
  },
  {
   "cell_type": "code",
   "execution_count": 1,
   "metadata": {
    "collapsed": true
   },
   "outputs": [],
   "source": [
    "# librerias a utilizar\n",
    "import numpy as np\n",
    "import matplotlib.pyplot as plt"
   ]
  },
  {
   "cell_type": "markdown",
   "metadata": {},
   "source": [
    "# Arrays básicos de NumPy"
   ]
  },
  {
   "cell_type": "markdown",
   "metadata": {},
   "source": [
    "La forma más básica en que podemos usar NumPy en finanzas es calcular la rentabilidad media de una cartera. Digamos que tenemos una lista que contiene el rendimiento histórico de varias acciones."
   ]
  },
  {
   "cell_type": "code",
   "execution_count": 2,
   "metadata": {
    "collapsed": false
   },
   "outputs": [
    {
     "name": "stdout",
     "output_type": "stream",
     "text": [
      "[3.5, 5, 2, 8, 4.2]\n"
     ]
    }
   ],
   "source": [
    "stock_list = [3.5, 5, 2, 8, 4.2]\n",
    "print stock_list"
   ]
  },
  {
   "cell_type": "markdown",
   "metadata": {},
   "source": [
    "Podemos hacer una matriz llamando a una función en la lista:"
   ]
  },
  {
   "cell_type": "code",
   "execution_count": 4,
   "metadata": {
    "collapsed": false
   },
   "outputs": [
    {
     "name": "stdout",
     "output_type": "stream",
     "text": [
      "[ 3.5  5.   2.   8.   4.2] <type 'numpy.ndarray'>\n"
     ]
    }
   ],
   "source": [
    "# crea la matriz\n",
    "returns = np.array(stock_list)\n",
    "print returns, type(returns)"
   ]
  },
  {
   "cell_type": "markdown",
   "metadata": {},
   "source": [
    "Notarás que el tipo de nuestra matriz es 'ndarray', no solo 'array'. Esto se debe a que las matrices NumPy se pueden crear con múltiples dimensiones. Si pasamos np.array () una lista de listas, creará una matriz bidimensional. Si pasamos una lista de listas, creará una matriz tridimensional, y así sucesivamente."
   ]
  },
  {
   "cell_type": "code",
   "execution_count": 6,
   "metadata": {
    "collapsed": false
   },
   "outputs": [
    {
     "name": "stdout",
     "output_type": "stream",
     "text": [
      "[[1 2]\n",
      " [3 4]] <type 'numpy.ndarray'>\n"
     ]
    }
   ],
   "source": [
    "# matriz de 2x2\n",
    "A = np.array([[1, 2], [3, 4]])\n",
    "print A, type(A)"
   ]
  },
  {
   "cell_type": "markdown",
   "metadata": {},
   "source": [
    "Podemos acceder a las dimensiones de una matriz mirando su variable de miembro de forma."
   ]
  },
  {
   "cell_type": "code",
   "execution_count": 8,
   "metadata": {
    "collapsed": false
   },
   "outputs": [
    {
     "name": "stdout",
     "output_type": "stream",
     "text": [
      "(2, 2)\n"
     ]
    }
   ],
   "source": [
    "# tamaño de la matriz\n",
    "print A.shape"
   ]
  },
  {
   "cell_type": "markdown",
   "metadata": {},
   "source": [
    "Las matrices están indexadas casi de la misma manera que las listas en Python. Los elementos de una lista comienzan a indexarse desde 0 y terminan en n-1, donde n es la longitud de la matriz."
   ]
  },
  {
   "cell_type": "code",
   "execution_count": 10,
   "metadata": {
    "collapsed": false
   },
   "outputs": [
    {
     "name": "stdout",
     "output_type": "stream",
     "text": [
      "3.5 4.2\n"
     ]
    }
   ],
   "source": [
    "# retorna el indice 0 y len() - 1\n",
    "print returns[0], returns[len(returns) - 1]"
   ]
  },
  {
   "cell_type": "markdown",
   "metadata": {},
   "source": [
    "Podemos tomar una porción de una matriz usando dos puntos, como en una lista."
   ]
  },
  {
   "cell_type": "code",
   "execution_count": 12,
   "metadata": {
    "collapsed": false
   },
   "outputs": [
    {
     "name": "stdout",
     "output_type": "stream",
     "text": [
      "[ 5.  2.]\n"
     ]
    }
   ],
   "source": [
    "# toma desde la posicion 1 hasta la 3\n",
    "print returns[1:3]"
   ]
  },
  {
   "cell_type": "markdown",
   "metadata": {},
   "source": [
    "Una porción de una matriz, como en una lista, seleccionará un grupo de elementos en la matriz a partir del primer elemento indicado y subiendo (pero sin incluir) al último elemento indicado.\n",
    "\n",
    "En el caso de matrices multidimensionales, muchas de las mismas convenciones con segmentación y segmentación se mantienen. Podemos acceder a la primera columna de una matriz bidimensional de la siguiente manera:"
   ]
  },
  {
   "cell_type": "code",
   "execution_count": 13,
   "metadata": {
    "collapsed": false
   },
   "outputs": [
    {
     "name": "stdout",
     "output_type": "stream",
     "text": [
      "[1 3]\n"
     ]
    }
   ],
   "source": [
    "# accedemos a la columna 0 de la matriz\n",
    "print A[:, 0]"
   ]
  },
  {
   "cell_type": "markdown",
   "metadata": {},
   "source": [
    "Y la primera fila de una matriz bidimensional así:"
   ]
  },
  {
   "cell_type": "code",
   "execution_count": 14,
   "metadata": {
    "collapsed": false
   },
   "outputs": [
    {
     "name": "stdout",
     "output_type": "stream",
     "text": [
      "[1 2]\n"
     ]
    }
   ],
   "source": [
    "# accedemos a la fila 0 de la matriz\n",
    "print A[0, :]"
   ]
  },
  {
   "cell_type": "markdown",
   "metadata": {},
   "source": [
    "¡Observe que cada porción de la matriz devuelve otra matriz!"
   ]
  },
  {
   "cell_type": "code",
   "execution_count": 16,
   "metadata": {
    "collapsed": false
   },
   "outputs": [
    {
     "name": "stdout",
     "output_type": "stream",
     "text": [
      "<type 'numpy.ndarray'>\n"
     ]
    }
   ],
   "source": [
    "# elemento de tipo matriz\n",
    "print type(A[0,:])"
   ]
  },
  {
   "cell_type": "markdown",
   "metadata": {},
   "source": [
    "Pasar solo un índice a una matriz bidimensional dará como resultado la devolución de la fila con el índice dado también, lo que nos brindará otra forma de acceder a las filas individuales."
   ]
  },
  {
   "cell_type": "code",
   "execution_count": 17,
   "metadata": {
    "collapsed": false
   },
   "outputs": [
    {
     "name": "stdout",
     "output_type": "stream",
     "text": [
      "[1 2]\n"
     ]
    }
   ],
   "source": [
    "# fila 0\n",
    "print A[0]"
   ]
  },
  {
   "cell_type": "markdown",
   "metadata": {},
   "source": [
    "El acceso al índice de un elemento individual devolverá solo el elemento."
   ]
  },
  {
   "cell_type": "code",
   "execution_count": 18,
   "metadata": {
    "collapsed": false
   },
   "outputs": [
    {
     "name": "stdout",
     "output_type": "stream",
     "text": [
      "4\n"
     ]
    }
   ],
   "source": [
    "# accdemos al elemento de la fila 1 y columna 1\n",
    "print A[1, 1]"
   ]
  },
  {
   "cell_type": "markdown",
   "metadata": {},
   "source": [
    "# Funciones Array\n",
    "\n",
    "Las funciones integradas en NumPy se pueden invocar fácilmente en las matrices. La mayoría de las funciones se aplican a un conjunto de elementos (como es la multiplicación escalar). Por ejemplo, si llamamos a log () en una matriz, se tomará el logaritmo de cada elemento.t."
   ]
  },
  {
   "cell_type": "code",
   "execution_count": 20,
   "metadata": {
    "collapsed": false
   },
   "outputs": [
    {
     "name": "stdout",
     "output_type": "stream",
     "text": [
      "[ 1.25276297  1.60943791  0.69314718  2.07944154  1.43508453]\n"
     ]
    }
   ],
   "source": [
    "# logaritmo de cada elemento\n",
    "print np.log(returns)"
   ]
  },
  {
   "cell_type": "markdown",
   "metadata": {},
   "source": [
    "Algunas funciones devuelven un solo valor. Esto se debe a que tratan la matriz como una colección (similar a una lista), realizando la función designada. Por ejemplo, la función mean () hará exactamente lo que espera, calculando la media de una matriz."
   ]
  },
  {
   "cell_type": "code",
   "execution_count": 21,
   "metadata": {
    "collapsed": false
   },
   "outputs": [
    {
     "name": "stdout",
     "output_type": "stream",
     "text": [
      "4.54\n"
     ]
    }
   ],
   "source": [
    "# calcula la media\n",
    "print np.mean(returns)"
   ]
  },
  {
   "cell_type": "markdown",
   "metadata": {},
   "source": [
    "O la función max () devolverá el elemento máximo de una matriz."
   ]
  },
  {
   "cell_type": "code",
   "execution_count": 22,
   "metadata": {
    "collapsed": false
   },
   "outputs": [
    {
     "name": "stdout",
     "output_type": "stream",
     "text": [
      "8.0\n"
     ]
    }
   ],
   "source": [
    "# calcula el maximo de los elementos\n",
    "print np.max(returns)"
   ]
  },
  {
   "cell_type": "markdown",
   "metadata": {},
   "source": [
    "Para obtener más información sobre las funciones universales en NumPy, consulte la documentación. [documentation](https://docs.scipy.org/doc/numpy/user/quickstart.html#universal-functions)."
   ]
  },
  {
   "cell_type": "markdown",
   "metadata": {},
   "source": [
    "# Retorno a los retornos\n",
    "\n",
    "Ahora modifiquemos nuestra matriz de devoluciones con valores escalares. Si agregamos un valor escalar a una matriz, se agregará a cada elemento de la matriz. Si multiplicamos una matriz por un valor escalar, se multiplicará contra cada elemento de la matriz. Si hacemos ambas cosas, ¡ambas sucederán!"
   ]
  },
  {
   "cell_type": "code",
   "execution_count": 24,
   "metadata": {
    "collapsed": false,
    "scrolled": false
   },
   "outputs": [
    {
     "data": {
      "text/plain": [
       "array([ 12. ,  15. ,   9. ,  21. ,  13.4])"
      ]
     },
     "execution_count": 24,
     "metadata": {},
     "output_type": "execute_result"
    }
   ],
   "source": [
    "# multiplica la matriz x 2 y le suma 5\n",
    "returns*2 + 5"
   ]
  },
  {
   "cell_type": "markdown",
   "metadata": {},
   "source": [
    "NumPy también tiene funciones específicamente diseñadas para operar en arreglos. Tomemos la media y la desviación estándar de este grupo de declaraciones."
   ]
  },
  {
   "cell_type": "code",
   "execution_count": 25,
   "metadata": {
    "collapsed": false
   },
   "outputs": [
    {
     "name": "stdout",
     "output_type": "stream",
     "text": [
      "Mean:  4.54 Std Dev:  1.99158228552\n"
     ]
    }
   ],
   "source": [
    "# calcula la media (mean) y la desviacion estandar (std)\n",
    "print \"Mean: \", np.mean(returns), \"Std Dev: \", np.std(returns)"
   ]
  },
  {
   "cell_type": "markdown",
   "metadata": {},
   "source": [
    "Simulemos un universo de acciones usando las funciones de NumPy. Primero necesitamos crear las matrices para mantener los activos y devoluciones que usaremos para construir una cartera. Esto se debe a que las matrices se crean con un tamaño fijo. Sus dimensiones no se pueden cambiar sin crear una nueva matriz."
   ]
  },
  {
   "cell_type": "code",
   "execution_count": 31,
   "metadata": {
    "collapsed": false
   },
   "outputs": [
    {
     "name": "stdout",
     "output_type": "stream",
     "text": [
      "matriz assets:  [[ 0.  0.  0.  0.  0.  0.  0.  0.  0.  0.  0.  0.  0.  0.  0.  0.  0.  0.\n",
      "   0.  0.  0.  0.  0.  0.  0.  0.  0.  0.  0.  0.  0.  0.  0.  0.  0.  0.\n",
      "   0.  0.  0.  0.  0.  0.  0.  0.  0.  0.  0.  0.  0.  0.  0.  0.  0.  0.\n",
      "   0.  0.  0.  0.  0.  0.  0.  0.  0.  0.  0.  0.  0.  0.  0.  0.  0.  0.\n",
      "   0.  0.  0.  0.  0.  0.  0.  0.  0.  0.  0.  0.  0.  0.  0.  0.  0.  0.\n",
      "   0.  0.  0.  0.  0.  0.  0.  0.  0.  0.]\n",
      " [ 0.  0.  0.  0.  0.  0.  0.  0.  0.  0.  0.  0.  0.  0.  0.  0.  0.  0.\n",
      "   0.  0.  0.  0.  0.  0.  0.  0.  0.  0.  0.  0.  0.  0.  0.  0.  0.  0.\n",
      "   0.  0.  0.  0.  0.  0.  0.  0.  0.  0.  0.  0.  0.  0.  0.  0.  0.  0.\n",
      "   0.  0.  0.  0.  0.  0.  0.  0.  0.  0.  0.  0.  0.  0.  0.  0.  0.  0.\n",
      "   0.  0.  0.  0.  0.  0.  0.  0.  0.  0.  0.  0.  0.  0.  0.  0.  0.  0.\n",
      "   0.  0.  0.  0.  0.  0.  0.  0.  0.  0.]\n",
      " [ 0.  0.  0.  0.  0.  0.  0.  0.  0.  0.  0.  0.  0.  0.  0.  0.  0.  0.\n",
      "   0.  0.  0.  0.  0.  0.  0.  0.  0.  0.  0.  0.  0.  0.  0.  0.  0.  0.\n",
      "   0.  0.  0.  0.  0.  0.  0.  0.  0.  0.  0.  0.  0.  0.  0.  0.  0.  0.\n",
      "   0.  0.  0.  0.  0.  0.  0.  0.  0.  0.  0.  0.  0.  0.  0.  0.  0.  0.\n",
      "   0.  0.  0.  0.  0.  0.  0.  0.  0.  0.  0.  0.  0.  0.  0.  0.  0.  0.\n",
      "   0.  0.  0.  0.  0.  0.  0.  0.  0.  0.]\n",
      " [ 0.  0.  0.  0.  0.  0.  0.  0.  0.  0.  0.  0.  0.  0.  0.  0.  0.  0.\n",
      "   0.  0.  0.  0.  0.  0.  0.  0.  0.  0.  0.  0.  0.  0.  0.  0.  0.  0.\n",
      "   0.  0.  0.  0.  0.  0.  0.  0.  0.  0.  0.  0.  0.  0.  0.  0.  0.  0.\n",
      "   0.  0.  0.  0.  0.  0.  0.  0.  0.  0.  0.  0.  0.  0.  0.  0.  0.  0.\n",
      "   0.  0.  0.  0.  0.  0.  0.  0.  0.  0.  0.  0.  0.  0.  0.  0.  0.  0.\n",
      "   0.  0.  0.  0.  0.  0.  0.  0.  0.  0.]\n",
      " [ 0.  0.  0.  0.  0.  0.  0.  0.  0.  0.  0.  0.  0.  0.  0.  0.  0.  0.\n",
      "   0.  0.  0.  0.  0.  0.  0.  0.  0.  0.  0.  0.  0.  0.  0.  0.  0.  0.\n",
      "   0.  0.  0.  0.  0.  0.  0.  0.  0.  0.  0.  0.  0.  0.  0.  0.  0.  0.\n",
      "   0.  0.  0.  0.  0.  0.  0.  0.  0.  0.  0.  0.  0.  0.  0.  0.  0.  0.\n",
      "   0.  0.  0.  0.  0.  0.  0.  0.  0.  0.  0.  0.  0.  0.  0.  0.  0.  0.\n",
      "   0.  0.  0.  0.  0.  0.  0.  0.  0.  0.]\n",
      " [ 0.  0.  0.  0.  0.  0.  0.  0.  0.  0.  0.  0.  0.  0.  0.  0.  0.  0.\n",
      "   0.  0.  0.  0.  0.  0.  0.  0.  0.  0.  0.  0.  0.  0.  0.  0.  0.  0.\n",
      "   0.  0.  0.  0.  0.  0.  0.  0.  0.  0.  0.  0.  0.  0.  0.  0.  0.  0.\n",
      "   0.  0.  0.  0.  0.  0.  0.  0.  0.  0.  0.  0.  0.  0.  0.  0.  0.  0.\n",
      "   0.  0.  0.  0.  0.  0.  0.  0.  0.  0.  0.  0.  0.  0.  0.  0.  0.  0.\n",
      "   0.  0.  0.  0.  0.  0.  0.  0.  0.  0.]\n",
      " [ 0.  0.  0.  0.  0.  0.  0.  0.  0.  0.  0.  0.  0.  0.  0.  0.  0.  0.\n",
      "   0.  0.  0.  0.  0.  0.  0.  0.  0.  0.  0.  0.  0.  0.  0.  0.  0.  0.\n",
      "   0.  0.  0.  0.  0.  0.  0.  0.  0.  0.  0.  0.  0.  0.  0.  0.  0.  0.\n",
      "   0.  0.  0.  0.  0.  0.  0.  0.  0.  0.  0.  0.  0.  0.  0.  0.  0.  0.\n",
      "   0.  0.  0.  0.  0.  0.  0.  0.  0.  0.  0.  0.  0.  0.  0.  0.  0.  0.\n",
      "   0.  0.  0.  0.  0.  0.  0.  0.  0.  0.]\n",
      " [ 0.  0.  0.  0.  0.  0.  0.  0.  0.  0.  0.  0.  0.  0.  0.  0.  0.  0.\n",
      "   0.  0.  0.  0.  0.  0.  0.  0.  0.  0.  0.  0.  0.  0.  0.  0.  0.  0.\n",
      "   0.  0.  0.  0.  0.  0.  0.  0.  0.  0.  0.  0.  0.  0.  0.  0.  0.  0.\n",
      "   0.  0.  0.  0.  0.  0.  0.  0.  0.  0.  0.  0.  0.  0.  0.  0.  0.  0.\n",
      "   0.  0.  0.  0.  0.  0.  0.  0.  0.  0.  0.  0.  0.  0.  0.  0.  0.  0.\n",
      "   0.  0.  0.  0.  0.  0.  0.  0.  0.  0.]\n",
      " [ 0.  0.  0.  0.  0.  0.  0.  0.  0.  0.  0.  0.  0.  0.  0.  0.  0.  0.\n",
      "   0.  0.  0.  0.  0.  0.  0.  0.  0.  0.  0.  0.  0.  0.  0.  0.  0.  0.\n",
      "   0.  0.  0.  0.  0.  0.  0.  0.  0.  0.  0.  0.  0.  0.  0.  0.  0.  0.\n",
      "   0.  0.  0.  0.  0.  0.  0.  0.  0.  0.  0.  0.  0.  0.  0.  0.  0.  0.\n",
      "   0.  0.  0.  0.  0.  0.  0.  0.  0.  0.  0.  0.  0.  0.  0.  0.  0.  0.\n",
      "   0.  0.  0.  0.  0.  0.  0.  0.  0.  0.]\n",
      " [ 0.  0.  0.  0.  0.  0.  0.  0.  0.  0.  0.  0.  0.  0.  0.  0.  0.  0.\n",
      "   0.  0.  0.  0.  0.  0.  0.  0.  0.  0.  0.  0.  0.  0.  0.  0.  0.  0.\n",
      "   0.  0.  0.  0.  0.  0.  0.  0.  0.  0.  0.  0.  0.  0.  0.  0.  0.  0.\n",
      "   0.  0.  0.  0.  0.  0.  0.  0.  0.  0.  0.  0.  0.  0.  0.  0.  0.  0.\n",
      "   0.  0.  0.  0.  0.  0.  0.  0.  0.  0.  0.  0.  0.  0.  0.  0.  0.  0.\n",
      "   0.  0.  0.  0.  0.  0.  0.  0.  0.  0.]]\n",
      "\n",
      "matriz returns:  [[ 0.  0.  0.  0.  0.  0.  0.  0.  0.  0.  0.  0.  0.  0.  0.  0.  0.  0.\n",
      "   0.  0.  0.  0.  0.  0.  0.  0.  0.  0.  0.  0.  0.  0.  0.  0.  0.  0.\n",
      "   0.  0.  0.  0.  0.  0.  0.  0.  0.  0.  0.  0.  0.  0.  0.  0.  0.  0.\n",
      "   0.  0.  0.  0.  0.  0.  0.  0.  0.  0.  0.  0.  0.  0.  0.  0.  0.  0.\n",
      "   0.  0.  0.  0.  0.  0.  0.  0.  0.  0.  0.  0.  0.  0.  0.  0.  0.  0.\n",
      "   0.  0.  0.  0.  0.  0.  0.  0.  0.  0.]\n",
      " [ 0.  0.  0.  0.  0.  0.  0.  0.  0.  0.  0.  0.  0.  0.  0.  0.  0.  0.\n",
      "   0.  0.  0.  0.  0.  0.  0.  0.  0.  0.  0.  0.  0.  0.  0.  0.  0.  0.\n",
      "   0.  0.  0.  0.  0.  0.  0.  0.  0.  0.  0.  0.  0.  0.  0.  0.  0.  0.\n",
      "   0.  0.  0.  0.  0.  0.  0.  0.  0.  0.  0.  0.  0.  0.  0.  0.  0.  0.\n",
      "   0.  0.  0.  0.  0.  0.  0.  0.  0.  0.  0.  0.  0.  0.  0.  0.  0.  0.\n",
      "   0.  0.  0.  0.  0.  0.  0.  0.  0.  0.]\n",
      " [ 0.  0.  0.  0.  0.  0.  0.  0.  0.  0.  0.  0.  0.  0.  0.  0.  0.  0.\n",
      "   0.  0.  0.  0.  0.  0.  0.  0.  0.  0.  0.  0.  0.  0.  0.  0.  0.  0.\n",
      "   0.  0.  0.  0.  0.  0.  0.  0.  0.  0.  0.  0.  0.  0.  0.  0.  0.  0.\n",
      "   0.  0.  0.  0.  0.  0.  0.  0.  0.  0.  0.  0.  0.  0.  0.  0.  0.  0.\n",
      "   0.  0.  0.  0.  0.  0.  0.  0.  0.  0.  0.  0.  0.  0.  0.  0.  0.  0.\n",
      "   0.  0.  0.  0.  0.  0.  0.  0.  0.  0.]\n",
      " [ 0.  0.  0.  0.  0.  0.  0.  0.  0.  0.  0.  0.  0.  0.  0.  0.  0.  0.\n",
      "   0.  0.  0.  0.  0.  0.  0.  0.  0.  0.  0.  0.  0.  0.  0.  0.  0.  0.\n",
      "   0.  0.  0.  0.  0.  0.  0.  0.  0.  0.  0.  0.  0.  0.  0.  0.  0.  0.\n",
      "   0.  0.  0.  0.  0.  0.  0.  0.  0.  0.  0.  0.  0.  0.  0.  0.  0.  0.\n",
      "   0.  0.  0.  0.  0.  0.  0.  0.  0.  0.  0.  0.  0.  0.  0.  0.  0.  0.\n",
      "   0.  0.  0.  0.  0.  0.  0.  0.  0.  0.]\n",
      " [ 0.  0.  0.  0.  0.  0.  0.  0.  0.  0.  0.  0.  0.  0.  0.  0.  0.  0.\n",
      "   0.  0.  0.  0.  0.  0.  0.  0.  0.  0.  0.  0.  0.  0.  0.  0.  0.  0.\n",
      "   0.  0.  0.  0.  0.  0.  0.  0.  0.  0.  0.  0.  0.  0.  0.  0.  0.  0.\n",
      "   0.  0.  0.  0.  0.  0.  0.  0.  0.  0.  0.  0.  0.  0.  0.  0.  0.  0.\n",
      "   0.  0.  0.  0.  0.  0.  0.  0.  0.  0.  0.  0.  0.  0.  0.  0.  0.  0.\n",
      "   0.  0.  0.  0.  0.  0.  0.  0.  0.  0.]\n",
      " [ 0.  0.  0.  0.  0.  0.  0.  0.  0.  0.  0.  0.  0.  0.  0.  0.  0.  0.\n",
      "   0.  0.  0.  0.  0.  0.  0.  0.  0.  0.  0.  0.  0.  0.  0.  0.  0.  0.\n",
      "   0.  0.  0.  0.  0.  0.  0.  0.  0.  0.  0.  0.  0.  0.  0.  0.  0.  0.\n",
      "   0.  0.  0.  0.  0.  0.  0.  0.  0.  0.  0.  0.  0.  0.  0.  0.  0.  0.\n",
      "   0.  0.  0.  0.  0.  0.  0.  0.  0.  0.  0.  0.  0.  0.  0.  0.  0.  0.\n",
      "   0.  0.  0.  0.  0.  0.  0.  0.  0.  0.]\n",
      " [ 0.  0.  0.  0.  0.  0.  0.  0.  0.  0.  0.  0.  0.  0.  0.  0.  0.  0.\n",
      "   0.  0.  0.  0.  0.  0.  0.  0.  0.  0.  0.  0.  0.  0.  0.  0.  0.  0.\n",
      "   0.  0.  0.  0.  0.  0.  0.  0.  0.  0.  0.  0.  0.  0.  0.  0.  0.  0.\n",
      "   0.  0.  0.  0.  0.  0.  0.  0.  0.  0.  0.  0.  0.  0.  0.  0.  0.  0.\n",
      "   0.  0.  0.  0.  0.  0.  0.  0.  0.  0.  0.  0.  0.  0.  0.  0.  0.  0.\n",
      "   0.  0.  0.  0.  0.  0.  0.  0.  0.  0.]\n",
      " [ 0.  0.  0.  0.  0.  0.  0.  0.  0.  0.  0.  0.  0.  0.  0.  0.  0.  0.\n",
      "   0.  0.  0.  0.  0.  0.  0.  0.  0.  0.  0.  0.  0.  0.  0.  0.  0.  0.\n",
      "   0.  0.  0.  0.  0.  0.  0.  0.  0.  0.  0.  0.  0.  0.  0.  0.  0.  0.\n",
      "   0.  0.  0.  0.  0.  0.  0.  0.  0.  0.  0.  0.  0.  0.  0.  0.  0.  0.\n",
      "   0.  0.  0.  0.  0.  0.  0.  0.  0.  0.  0.  0.  0.  0.  0.  0.  0.  0.\n",
      "   0.  0.  0.  0.  0.  0.  0.  0.  0.  0.]\n",
      " [ 0.  0.  0.  0.  0.  0.  0.  0.  0.  0.  0.  0.  0.  0.  0.  0.  0.  0.\n",
      "   0.  0.  0.  0.  0.  0.  0.  0.  0.  0.  0.  0.  0.  0.  0.  0.  0.  0.\n",
      "   0.  0.  0.  0.  0.  0.  0.  0.  0.  0.  0.  0.  0.  0.  0.  0.  0.  0.\n",
      "   0.  0.  0.  0.  0.  0.  0.  0.  0.  0.  0.  0.  0.  0.  0.  0.  0.  0.\n",
      "   0.  0.  0.  0.  0.  0.  0.  0.  0.  0.  0.  0.  0.  0.  0.  0.  0.  0.\n",
      "   0.  0.  0.  0.  0.  0.  0.  0.  0.  0.]\n",
      " [ 0.  0.  0.  0.  0.  0.  0.  0.  0.  0.  0.  0.  0.  0.  0.  0.  0.  0.\n",
      "   0.  0.  0.  0.  0.  0.  0.  0.  0.  0.  0.  0.  0.  0.  0.  0.  0.  0.\n",
      "   0.  0.  0.  0.  0.  0.  0.  0.  0.  0.  0.  0.  0.  0.  0.  0.  0.  0.\n",
      "   0.  0.  0.  0.  0.  0.  0.  0.  0.  0.  0.  0.  0.  0.  0.  0.  0.  0.\n",
      "   0.  0.  0.  0.  0.  0.  0.  0.  0.  0.  0.  0.  0.  0.  0.  0.  0.  0.\n",
      "   0.  0.  0.  0.  0.  0.  0.  0.  0.  0.]]\n"
     ]
    }
   ],
   "source": [
    "# creamos una matriz de 10 x 100 (2 dimensiones)\n",
    "N = 10\n",
    "assets = np.zeros((N, 100))\n",
    "returns = np.zeros((N, 100))\n",
    "print \"matriz assets: \" , assets\n",
    "print \"\\nmatriz returns: \" , returns"
   ]
  },
  {
   "cell_type": "markdown",
   "metadata": {},
   "source": [
    "Esta función, zeros (), crea una matriz NumPy con las dimensiones proporcionadas que se completa por completo con 0. Podemos pasar un solo valor o una tupla de tantas dimensiones como queramos. Al pasar en la tupla (N, 100), se devolverá una matriz bidimensional con N filas y 100 columnas. Nuestro resultado es una matriz N × 100.\n",
    "\n",
    "Ahora simularemos un activo base. Queremos que el universo de acciones esté correlacionado entre sí, por lo que usaremos este valor inicial para generar los demás."
   ]
  },
  {
   "cell_type": "code",
   "execution_count": 35,
   "metadata": {
    "collapsed": false
   },
   "outputs": [
    {
     "name": "stdout",
     "output_type": "stream",
     "text": [
      "[ 1.00772572  0.97582668  1.05155534  1.02415066  1.04969478  0.98917412\n",
      "  0.99816589  1.03564818  0.98786783  1.05479515  1.01359273  0.9673109\n",
      "  1.03068849  0.99968853  1.01502023  1.00928493  1.01127247  1.04379576\n",
      "  1.02402223  1.03035192  0.95253515  1.04349375  0.96120038  1.00638712\n",
      "  0.97990298  0.99363718  1.02152695  0.97978272  1.00175976  1.07311132\n",
      "  1.02588979  1.00894729  1.00267432  0.98548762  0.98975955  1.01109451\n",
      "  0.99625137  0.99744456  0.97858998  0.98399249  0.99407211  0.99624306\n",
      "  1.00667656  0.99217502  1.02748143  0.96651951  1.02160516  1.00707678\n",
      "  1.00686351  1.03289952  1.06655457  0.98646649  0.99945336  0.97528981\n",
      "  0.99323598  1.01337337  1.00123929  0.98741482  1.0306494   1.05436932\n",
      "  0.97848312  1.01880686  1.06211137  1.0123327   0.98230449  0.98726116\n",
      "  1.05534118  1.01733192  0.9747344   1.00822829  1.04283917  1.00646088\n",
      "  0.95999831  1.02275364  1.02151563  0.98606199  1.04036983  1.02912181\n",
      "  0.98451214  0.97708685  0.91218146  1.03080599  1.04331331  0.96483228\n",
      "  1.01463243  1.00913009  0.96359309  0.98106724  0.94573665  1.01474994\n",
      "  1.00534327  1.01719652  0.99568713  1.05138631  0.99378352  1.00152036\n",
      "  0.97202633  1.03199906  0.99373412  1.03949108]\n",
      "[ 1.00772572  0.98336564  1.03406339  1.05903671  1.1116653   1.09963055\n",
      "  1.09761371  1.13674164  1.1229505   1.18448274  1.2005831   1.16133711\n",
      "  1.19697679  1.19660398  1.21457724  1.22585451  1.23967291  1.29396533\n",
      "  1.32504926  1.36526705  1.30046485  1.35702694  1.30437482  1.31270601\n",
      "  1.28632453  1.27813988  1.30565433  1.27925754  1.28150873  1.37520152\n",
      "  1.4108052   1.42342809  1.42723479  1.40652222  1.3921188   1.40756367\n",
      "  1.40228723  1.39870378  1.3687575   1.3468471   1.33886314  1.33383312\n",
      "  1.34273854  1.33223164  1.36884327  1.32301373  1.35159765  1.36116261\n",
      "  1.37050496  1.41559392  1.50980817  1.48937517  1.48856102  1.45177838\n",
      "  1.44195853  1.46124237  1.46305327  1.44464048  1.48891785  1.5698693\n",
      "  1.53609061  1.56497965  1.66218268  1.68268188  1.65290597  1.63184986\n",
      "  1.72215836  1.75200667  1.70774116  1.72179294  1.79555312  1.80715399\n",
      "  1.73486477  1.77433926  1.81251528  1.78725243  1.85940351  1.91355271\n",
      "  1.88391587  1.84074943  1.67909751  1.73082378  1.80579148  1.7422859\n",
      "  1.76777977  1.78391975  1.71897275  1.68642786  1.59491663  1.61844155\n",
      "  1.62708933  1.6550696   1.6479315   1.73261261  1.72184187  1.72445969\n",
      "  1.67622023  1.72985769  1.7190186   1.7869045 ]\n"
     ]
    }
   ],
   "source": [
    "# 100 muestras aleatorias\n",
    "R_1 = np.random.normal(1.01, 0.03, 100)\n",
    "returns[0] = R_1\n",
    "assets[0] = np.cumprod(R_1)\n",
    "print(returns[0])\n",
    "print(assets[0])"
   ]
  },
  {
   "cell_type": "markdown",
   "metadata": {},
   "source": [
    "El módulo aleatorio en NumPy es extremadamente útil. Contiene métodos para el muestreo de muchas distribuciones de probabilidad diferentes, algunas de las cuales están cubiertas en la conferencia de variables aleatorias en la serie de conferencias cuánticas. En este caso, extraemos N = 100 muestras aleatorias de una distribución normal con una media de 1,01 y una desviación estándar de 0,03. Tratamos estos como los rendimientos porcentuales diarios de nuestro activo y tomamos el producto acumulado de estas muestras para obtener el precio actual. [random variables lecture](https://www.quantopian.com/lectures/random-variables)\n",
    "\n",
    "La forma en que hemos generado nuestro universo, los vectores Ri individuales son cada uno matrices de 1 dimensión y las variables de devoluciones y activos contienen matrices de 2 dimensiones. Más arriba, establecemos la fila inicial de rendimientos y activos para que sea el primer vector de Ri y el precio de activo acumulado en función de esos rendimientos, respectivamente.\n",
    "\n",
    "Ahora usaremos este activo base para crear algunos otros activos aleatorios que estén correlacionados con él."
   ]
  },
  {
   "cell_type": "code",
   "execution_count": 37,
   "metadata": {
    "collapsed": false
   },
   "outputs": [
    {
     "name": "stdout",
     "output_type": "stream",
     "text": [
      "[0.62262631579133032, 0.46963141903533234, 0.67161430211468698, 1.0360653219471994, 0.57363797561176266, 0.88448730520880314, 0.81561293473706442, 0.67305800891213075, 0.44748971487209577, 0.54547057774834151]\n",
      "[0.02848693729315498, 0.036704087555838316, 0.038542121161683353, 0.03451416787656629, 0.034393282649686538, 0.035646783532059842, 0.036859509497975854, 0.034779790862197971, 0.034375183051582069, 0.035651125627038205]\n"
     ]
    }
   ],
   "source": [
    "# Generar activos que están correlacionados con R_1\n",
    "for i in range(1, N):\n",
    "    R_i = R_1 + np.random.normal(0.001, 0.02, 100)\n",
    "    returns[i] = R_i # Establece cada fila de devoluciones igual a la nueva matriz R_i\n",
    "    assets[i] = np.cumprod(R_i)\n",
    "    \n",
    "mean_returns = [(np.mean(R) - 1)*100 for R in returns]\n",
    "return_volatilities = [np.std(R) for R in returns]\n",
    "print mean_returns\n",
    "print return_volatilities"
   ]
  },
  {
   "cell_type": "markdown",
   "metadata": {},
   "source": [
    "Aquí generamos los valores N-1 restantes que queremos en nuestro universo agregando ruido aleatorio a R1. Esto asegura que nuestros otros N-1 activos estarán correlacionados con el activo base porque tienen cierta información subyacente que se comparte.\n",
    "\n",
    "Vamos a trazar el aspecto de la rentabilidad media de cada activo:"
   ]
  },
  {
   "cell_type": "code",
   "execution_count": 38,
   "metadata": {
    "collapsed": false,
    "scrolled": false
   },
   "outputs": [
    {
     "data": {
      "image/png": "[encoded data removed]",
      "text/plain": [
       "<matplotlib.figure.Figure at 0x7f51dcec9d50>"
      ]
     },
     "metadata": {},
     "output_type": "display_data"
    }
   ],
   "source": [
    "# grafica del activo\n",
    "plt.bar(np.arange(len(mean_returns)), mean_returns)\n",
    "plt.xlabel('Valores')\n",
    "plt.ylabel('Resultados')\n",
    "plt.title('Resultados para {0} bienes aleatorios'.format(N));"
   ]
  },
  {
   "cell_type": "markdown",
   "metadata": {},
   "source": [
    "# Cálculo del retorno esperado\n",
    "\n",
    "Entonces tenemos un universo de acciones. ¡Estupendo! Ahora vamos a juntarlos en una cartera y calcular su rendimiento y riesgo esperados.\n",
    "\n",
    "Comenzaremos generando N pesos aleatorios para cada activo de nuestra cartera."
   ]
  },
  {
   "cell_type": "code",
   "execution_count": 42,
   "metadata": {
    "collapsed": false
   },
   "outputs": [
    {
     "name": "stdout",
     "output_type": "stream",
     "text": [
      "[ 0.43728593  0.78278073  0.20229676  0.8660751   0.19751098  0.26320207\n",
      "  0.42659393  0.10769903  0.91458221  0.54247263]\n",
      "[ 0.0922447   0.16512622  0.04267414  0.18269702  0.04166459  0.05552201\n",
      "  0.08998924  0.02271892  0.19292951  0.11443365]\n"
     ]
    }
   ],
   "source": [
    "# generamos N pesos aleatorios para cada activo de nuestra cartera.\n",
    "# tenemos que volver a escalar los pesos para que todos sumen hasta 1.\n",
    "# hacemos esto escalando el vector de ponderaciones por la suma total\n",
    "# de todos los pesos. Este paso asegura que utilizaremos el 100% del\n",
    "# efectivo de la cartera.\n",
    "weights = np.random.uniform(0, 1, N)\n",
    "print weights\n",
    "weights = weights/np.sum(weights)\n",
    "print weights"
   ]
  },
  {
   "cell_type": "markdown",
   "metadata": {},
   "source": [
    "Tenemos que volver a escalar los pesos para que todos sumen hasta 1. Hacemos esto escalando el vector de ponderaciones por la suma total de todos los pesos. Este paso asegura que utilizaremos el 100% del efectivo de la cartera.\n",
    "\n",
    "Para calcular la rentabilidad media de la cartera, tenemos que escalar el rendimiento de cada activo por su peso designado. Podemos extraer cada elemento de cada matriz y multiplicarlos individualmente, pero es más rápido usar los métodos de álgebra lineal de NumPy. La función que queremos es dot (). Esto calculará el producto escalar entre dos arreglos para nosotros. Entonces si $v = \\left[ 1, 2, 3 \\right]$ y $w = \\left[4, 5, 6 \\right]$, entonces:\n",
    "\n",
    "$$ v \\cdot w = 1 \\times 4 + 2 \\times 5 + 3 \\times 6 $$\n",
    "\n",
    "Para un vector unidimensional, el producto de puntos multiplicará cada elemento de manera puntual y agregará todos los productos. En nuestro caso, tenemos un vector de pesos, $\\omega = \\left[ \\omega_1, \\omega_2, \\dots \\omega_N\\right]$ y un vector de retornos, $\\mu = \\left[ \\mu_1, \\mu_2, \\dots, \\mu_N\\right]$. Si tomamos el producto escalar de estos dos obtendremos:\n",
    "\n",
    "$$ \\omega \\cdot \\mu = \\omega_1\\mu_1 + \\omega_2\\mu_2 + \\dots + \\omega_N\\mu_N = \\mu_P $$\n",
    "\n",
    "Esto produce la suma de todos los rendimientos de activos escalados por sus respectivos pesos. ¡Este es el rendimiento esperado general de la cartera!"
   ]
  },
  {
   "cell_type": "code",
   "execution_count": 43,
   "metadata": {
    "collapsed": false
   },
   "outputs": [
    {
     "name": "stdout",
     "output_type": "stream",
     "text": [
      "Retorno esperado de la cartera:  0.66337965345\n"
     ]
    }
   ],
   "source": [
    "# calcula el producto escalar entre dos arreglos (producto punto)\n",
    "# suma de todos los rendimientos de activos escalados por sus respectivos pesos\n",
    "p_returns = np.dot(weights, mean_returns)\n",
    "print \"Retorno esperado de la cartera: \", p_returns"
   ]
  },
  {
   "cell_type": "markdown",
   "metadata": {},
   "source": [
    "El cálculo de la rentabilidad media es bastante intuitivo y no requiere demasiada explicación del álgebra lineal. Sin embargo, calcular la varianza de nuestra cartera requiere un poco más de antecedentes."
   ]
  },
  {
   "cell_type": "markdown",
   "metadata": {},
   "source": [
    "# Cuidado con los valores de NaN\n",
    "\n",
    "La mayoría de las veces, todos estos cálculos funcionarán sin problemas. Sin embargo, cuando trabajamos con datos reales, corremos el riesgo de tener valores nan en nuestras matrices. Esta es la manera en que NumPy dice que los datos que faltan o no existen. Estos valores nan pueden llevar a errores en los cálculos matemáticos, por lo que es importante saber si su matriz contiene valores nan y saber cómo soltarlos."
   ]
  },
  {
   "cell_type": "code",
   "execution_count": 46,
   "metadata": {
    "collapsed": false
   },
   "outputs": [
    {
     "name": "stdout",
     "output_type": "stream",
     "text": [
      "[  1.   2.  nan   4.   5.]\n"
     ]
    }
   ],
   "source": [
    "# nan: datos que faltan o no existen\n",
    "v = np.array([1, 2, np.nan, 4, 5])\n",
    "print v"
   ]
  },
  {
   "cell_type": "markdown",
   "metadata": {},
   "source": [
    "Veamos qué sucede cuando tratamos de tomar la media de esta matriz."
   ]
  },
  {
   "cell_type": "code",
   "execution_count": 47,
   "metadata": {
    "collapsed": false
   },
   "outputs": [
    {
     "name": "stdout",
     "output_type": "stream",
     "text": [
      "nan\n"
     ]
    }
   ],
   "source": [
    "# al calcular la media nos aparece nan\n",
    "print np.mean(v)"
   ]
  },
  {
   "cell_type": "markdown",
   "metadata": {},
   "source": [
    "Claramente, los valores nan pueden tener un gran impacto en nuestros cálculos. Afortunadamente, podemos verificar valores nan con la función isnan ()."
   ]
  },
  {
   "cell_type": "code",
   "execution_count": 48,
   "metadata": {
    "collapsed": false
   },
   "outputs": [
    {
     "data": {
      "text/plain": [
       "array([False, False,  True, False, False], dtype=bool)"
      ]
     },
     "execution_count": 48,
     "metadata": {},
     "output_type": "execute_result"
    }
   ],
   "source": [
    "# verificar valores nan con la función isnan ().\n",
    "np.isnan(v)"
   ]
  },
  {
   "cell_type": "markdown",
   "metadata": {},
   "source": [
    "Llamar a isnan () en una matriz llamará a la función en cada valor de la matriz, devolviendo un valor de Verdadero si el elemento es nan y Falso si el elemento es válido. Ahora, saber si su matriz contiene valores de nan está todo bien, pero ¿cómo eliminamos nans? Fácilmente, las matrices NumPy pueden indexarse por valores booleanos (verdadero o falso). Si usamos una matriz booleana para indexar una matriz, eliminaremos todos los valores de la matriz que se registre como False bajo esta condición. Usamos la función isnan () en crear una matriz booleana, asignando un valor True a todo lo que no es nan y un False a los nans y lo usamos para indexar la misma matriz."
   ]
  },
  {
   "cell_type": "code",
   "execution_count": 49,
   "metadata": {
    "collapsed": false
   },
   "outputs": [
    {
     "name": "stdout",
     "output_type": "stream",
     "text": [
      "[ 1.  2.  4.  5.]\n"
     ]
    }
   ],
   "source": [
    "# el ~ indica un no lógico, invirtiendo los bools\n",
    "ix = ~np.isnan(v) \n",
    "print v[ix] # También podemos simplemente escribir v = v [~ np.isnan (v)]"
   ]
  },
  {
   "cell_type": "code",
   "execution_count": 50,
   "metadata": {
    "collapsed": false
   },
   "outputs": [
    {
     "name": "stdout",
     "output_type": "stream",
     "text": [
      "3.0\n"
     ]
    }
   ],
   "source": [
    "# calculando la media, vemos que no aparece nan\n",
    "print np.mean(v[ix])"
   ]
  },
  {
   "cell_type": "markdown",
   "metadata": {},
   "source": [
    "Hay algunos accesos directos a este proceso en forma de funciones NumPy específicamente construidas para manejarlos, como nanmean ()."
   ]
  },
  {
   "cell_type": "code",
   "execution_count": 29,
   "metadata": {
    "collapsed": false
   },
   "outputs": [
    {
     "name": "stdout",
     "output_type": "stream",
     "text": [
      "3.0\n"
     ]
    }
   ],
   "source": [
    "print np.nanmean(v)"
   ]
  },
  {
   "cell_type": "markdown",
   "metadata": {},
   "source": [
    "La función nanmean () simplemente calcula la media de la matriz como si no hubiera valores nan en absoluto. Hay algunas más de estas funciones, así que no dude en leer más sobre ellas en la documentación. Estos valores indeterminados son más un problema con los datos que el álgebra lineal en sí misma, por lo que es útil que haya formas de manejarlos."
   ]
  },
  {
   "cell_type": "markdown",
   "metadata": {},
   "source": [
    "# Conclusión\n",
    "\n",
    "El álgebra lineal es omnipresente en las finanzas y en general. Por ejemplo, el cálculo de las ponderaciones óptimas de acuerdo con la teoría de la cartera moderna se realiza utilizando técnicas de álgebra lineal. Las matrices y las funciones en NumPy nos permiten manejar estos cálculos de una manera intuitiva. Para una introducción rápida al álgebra lineal y cómo usar NumPy para hacer cálculos de matriz más significativos, pase a la siguiente sección."
   ]
  },
  {
   "cell_type": "markdown",
   "metadata": {},
   "source": [
    "# Una breve incursión en el álgebra lineal\n",
    "\n",
    "Comencemos con una descripción básica de algunos conceptos de álgebra lineal. El álgebra lineal se reduce a la multiplicación y composición de valores escalares y de matriz. Un valor escalar es solo un número real que multiplicamos contra una matriz. Cuando escalamos una matriz o matriz usando un escalar, multiplicamos cada elemento individual de esa matriz o matriz por el escalar.\n",
    "\n",
    "Una matriz es una colección de valores, típicamente representada por una cuadrícula de m × n, donde m es el número de filas y n es el número de columnas. Las longitudes de los bordes m y n no tienen que ser necesariamente diferentes. Si tenemos m = n, llamamos a esto una matriz cuadrada. Un caso particularmente interesante de una matriz es cuando m = 1 o n = 1. En este caso, tenemos un caso especial de una matriz que llamamos vector. Si bien hay un objeto de matriz en NumPy, haremos todo con matrices NumPy porque pueden tener dimensiones superiores a 2. Para el propósito de esta sección, usaremos matriz y matriz de forma intercambiable.\n",
    "\n",
    "Podemos expresar la ecuación matricial como:\n",
    "\n",
    "$$ y = A\\cdot x $$\n",
    "\n",
    "Donde A es una matriz m × n, y es un vector m × 1, y x es un vector n × 1. En el lado derecho de la ecuación estamos multiplicando una matriz por un vector. Esto requiere un poco más de aclaración, no sea que pensemos que podemos multiplicar cualquier matriz por cualquier otra matriz.\n",
    "\n",
    "# Multiplicación de matrices\n",
    "\n",
    "Con la multiplicación de matrices, importa el orden en que se multiplican las matrices. Multiplicar una matriz en el lado izquierdo por otra matriz puede estar bien, pero la multiplicación en la derecha puede no estar definida."
   ]
  },
  {
   "cell_type": "code",
   "execution_count": 51,
   "metadata": {
    "collapsed": true
   },
   "outputs": [],
   "source": [
    "A = np.array([\n",
    "        [1, 2, 3, 12, 6],\n",
    "        [4, 5, 6, 15, 20],\n",
    "        [7, 8, 9, 10, 10]        \n",
    "    ])\n",
    "B = np.array([\n",
    "        [4, 4, 2],\n",
    "        [2, 3, 1],\n",
    "        [6, 5, 8],\n",
    "        [9, 9, 9]\n",
    "    ])"
   ]
  },
  {
   "cell_type": "markdown",
   "metadata": {},
   "source": [
    "Observe que las matrices definidas anteriormente, A y B, tienen diferentes dimensiones. A es 3 × 5 y B es 4 × 3. La regla general de lo que se puede y no se puede multiplicar, en qué orden se basa en las dimensiones de las matrices. Específicamente, el número de columnas en la matriz de la izquierda debe ser igual al número de filas en la matriz de la derecha. En términos super informales, digamos que tenemos una matriz m × n y una matriz p × q. Si multiplicamos el primero por el segundo a la derecha, obtenemos lo siguiente:\n",
    "\n",
    "$$ (m \\times n) \\cdot (p \\times q) = (m \\times q) $$\n",
    "\n",
    "De modo que el producto resultante tiene el mismo número de filas que la matriz izquierda y el mismo número de columnas que la matriz derecha. Esta limitación de la multiplicación de la matriz con respecto a las dimensiones es importante para realizar un seguimiento de cuándo se escribe el código. Para demostrar esto, usamos la función punto () para multiplicar nuestras matrices a continuación:"
   ]
  },
  {
   "cell_type": "code",
   "execution_count": 52,
   "metadata": {
    "collapsed": false
   },
   "outputs": [
    {
     "ename": "ValueError",
     "evalue": "shapes (3,5) and (4,3) not aligned: 5 (dim 1) != 4 (dim 0)",
     "output_type": "error",
     "traceback": [
      "\u001b[0;31m\u001b[0m",
      "\u001b[0;31mValueError\u001b[0mTraceback (most recent call last)",
      "\u001b[0;32m<ipython-input-52-e94d56d5a00d>\u001b[0m in \u001b[0;36m<module>\u001b[0;34m()\u001b[0m\n\u001b[1;32m      1\u001b[0m \u001b[0;31m# al multiplicar AXB nos aparecerá error, pues sus matrices deben ser cuadradas\u001b[0m\u001b[0;34m\u001b[0m\u001b[0;34m\u001b[0m\u001b[0m\n\u001b[1;32m      2\u001b[0m \u001b[0;31m# (3 X 5) X (4 X 3)\u001b[0m\u001b[0;34m\u001b[0m\u001b[0;34m\u001b[0m\u001b[0m\n\u001b[0;32m----> 3\u001b[0;31m \u001b[0;32mprint\u001b[0m \u001b[0mnp\u001b[0m\u001b[0;34m.\u001b[0m\u001b[0mdot\u001b[0m\u001b[0;34m(\u001b[0m\u001b[0mA\u001b[0m\u001b[0;34m,\u001b[0m \u001b[0mB\u001b[0m\u001b[0;34m)\u001b[0m\u001b[0;34m\u001b[0m\u001b[0m\n\u001b[0m",
      "\u001b[0;31mValueError\u001b[0m: shapes (3,5) and (4,3) not aligned: 5 (dim 1) != 4 (dim 0)"
     ]
    }
   ],
   "source": [
    "# al multiplicar AXB nos aparecerá error, pues sus matrices deben ser cuadradas\n",
    "# (3 X 5) X (4 X 3)\n",
    "print np.dot(A, B)"
   ]
  },
  {
   "cell_type": "markdown",
   "metadata": {},
   "source": [
    "Estos resultados tienen sentido de acuerdo con nuestra regla. Multiplicar una matriz de 3 × 5 a la derecha por una matriz de 4 × 3 da como resultado un error, mientras que multiplicar una matriz de 4 × 3 a la derecha por una matriz de 3x5 da como resultado una matriz de 4x5."
   ]
  },
  {
   "cell_type": "code",
   "execution_count": 53,
   "metadata": {
    "collapsed": false
   },
   "outputs": [
    {
     "name": "stdout",
     "output_type": "stream",
     "text": [
      "[[ 34  44  54 128 124]\n",
      " [ 21  27  33  79  82]\n",
      " [ 82 101 120 227 216]\n",
      " [108 135 162 333 324]]\n"
     ]
    }
   ],
   "source": [
    "# al multiplicar B X A, cumple la propiedad de tener numero de filas igual que el numero de columnas\n",
    "# (4 X 3) X (3 X 5)\n",
    "print np.dot(B, A)"
   ]
  },
  {
   "cell_type": "markdown",
   "metadata": {},
   "source": [
    "# Variación de la Cartera\n",
    "\n",
    "Volvamos a nuestro ejemplo de portafolio de antes. Calculamos el rendimiento esperado de la cartera, pero ¿cómo calculamos la varianza? Comenzamos tratando de evaluar la cartera como una suma de cada activo individual, escalado por su peso.\n",
    "\n",
    "$$ VAR[P] = VAR[\\omega_1 S_1 + \\omega_2 S_2 + \\cdots + \\omega_N S_N] $$\n",
    "\n",
    "Donde $S_0, \\cdots, S_N$ son los activos contenidos dentro de nuestro universo. Si todos nuestros activos fueran independientes entre sí, podríamos simplemente evaluar esto como\n",
    "\n",
    "$$ VAR[P] = VAR[\\omega_1 S_1] + VAR[\\omega_2 S_2] + \\cdots + VAR[\\omega_N S_N] = \\omega_1^2\\sigma_1^2 + \\omega_2^2\\sigma_2^2 + \\cdots + \\omega_N^2\\sigma_N^2 $$\n",
    "\n",
    "Sin embargo, todos nuestros activos dependen el uno del otro por su construcción. Todos están de alguna manera relacionados con nuestro activo base y, por lo tanto, entre sí. Por lo tanto, debemos calcular la varianza de la cartera al incluir las covarianzas pares individuales de cada activo. Nuestra fórmula para la varianza de la cartera:\n",
    "\n",
    "$$ VAR[P] = \\sigma_P^2 = \\sum_i \\omega_i^2\\sigma_i^2 + \\sum_i\\sum_{i\\neq j} \\omega_i\\omega_j\\sigma_i\\sigma_j\\rho_{i, j}, \\ i, j \\in \\lbrace 1, 2, \\cdots, N \\rbrace $$\n",
    "\n",
    "Donde $\\rho_{i,j}$ es la correlación entre $S_i$ and $S_j$, $\\rho_{i, j} = \\frac{COV[S_i, S_j]}{\\sigma_i\\sigma_j}$. Esto parece extremadamente complicado, pero podemos manejar todo esto con matrices NumPy. Primero, calculamos la matriz de covarianza que relaciona todas las existencias individuales en nuestro universo."
   ]
  },
  {
   "cell_type": "code",
   "execution_count": 54,
   "metadata": {
    "collapsed": false
   },
   "outputs": [
    {
     "name": "stdout",
     "output_type": "stream",
     "text": [
      "[[ 0.0008197   0.000925    0.00096148  0.00079886  0.00081439  0.00082657\n",
      "   0.00086356  0.0008097   0.00082139  0.00079839]\n",
      " [ 0.000925    0.0013608   0.00102031  0.00088448  0.00096086  0.00089033\n",
      "   0.0010197   0.00099055  0.0009288   0.00088324]\n",
      " [ 0.00096148  0.00102031  0.0015005   0.00095961  0.0009581   0.00099303\n",
      "   0.0010142   0.00093057  0.00087752  0.00102775]\n",
      " [ 0.00079886  0.00088448  0.00095961  0.00120326  0.00080339  0.00079924\n",
      "   0.00086034  0.00090005  0.00083447  0.00074484]\n",
      " [ 0.00081439  0.00096086  0.0009581   0.00080339  0.00119485  0.00084036\n",
      "   0.00081039  0.00080251  0.00084335  0.00078527]\n",
      " [ 0.00082657  0.00089033  0.00099303  0.00079924  0.00084036  0.00128353\n",
      "   0.00082454  0.000727    0.0008346   0.0008332 ]\n",
      " [ 0.00086356  0.0010197   0.0010142   0.00086034  0.00081039  0.00082454\n",
      "   0.00137235  0.00091362  0.0008276   0.00085671]\n",
      " [ 0.0008097   0.00099055  0.00093057  0.00090005  0.00080251  0.000727\n",
      "   0.00091362  0.00122185  0.00082158  0.00069109]\n",
      " [ 0.00082139  0.0009288   0.00087752  0.00083447  0.00084335  0.0008346\n",
      "   0.0008276   0.00082158  0.00119359  0.00080505]\n",
      " [ 0.00079839  0.00088324  0.00102775  0.00074484  0.00078527  0.0008332\n",
      "   0.00085671  0.00069109  0.00080505  0.00128384]]\n"
     ]
    }
   ],
   "source": [
    "# calcula la matriz de covarianza\n",
    "cov_mat = np.cov(returns)\n",
    "print cov_mat"
   ]
  },
  {
   "cell_type": "markdown",
   "metadata": {},
   "source": [
    "Esta matriz no está formateada particularmente bien, pero una matriz de covarianza es un concepto muy importante. La matriz de covarianza tiene la forma:\n",
    "\n",
    "$$ \\left[\\begin{matrix}\n",
    "VAR[S_1] & COV[S_1, S_2] & \\cdots & COV[S_1, S_N] \\\\\n",
    "COV[S_2, S_1] & VAR[S_2] & \\cdots & COV[S_2, S_N] \\\\\n",
    "\\vdots & \\vdots & \\ddots & \\vdots \\\\\n",
    "COV[S_N, S_1] & COV[S_N, S_2] & \\cdots & VAR[S_N]\n",
    "\\end{matrix}\\right] $$\n",
    "\n",
    "Por lo tanto, cada entrada diagonal es la varianza de ese activo en ese índice y cada fuera de la diagonal contiene la covarianza de dos activos indexados por la columna y el número de fila. Lo que es importante es que una vez que tenemos la matriz de covarianza, podemos hacer un álgebra lineal muy rápida para calcular la varianza de la cartera total. Podemos representar la varianza de la cartera en forma de matriz como:\n",
    "\n",
    "$$ \\sigma_p^2 = \\omega \\ C \\ \\omega^\\intercal$$\n",
    "\n",
    "Donde $C$ es la matriz de covarianza de todos los activos y $\\omega$ es la matriz que contiene los pesos de cada activo individual. El superíndice $\\intercal$ en el segundo $\\omega$ enumerado anteriormente denota la transposición de $\\omega$. Para una referencia sobre la evaluación de la varianza de una cartera como una ecuación matricial, consulte el artículo de Wikipedia sobre la teoría de la cartera moderna. [modern portfolio theory](https://en.wikipedia.org/wiki/Modern_portfolio_theory).\n",
    "\n",
    "La transposición de una matriz es lo que obtienes cuando cambias las filas y columnas de una matriz. Esto tiene el efecto de reflejar una matriz a través de lo que podrías imaginar como una diagonal. Por ejemplo, tome nuestra matriz A desde antes:"
   ]
  },
  {
   "cell_type": "code",
   "execution_count": 55,
   "metadata": {
    "collapsed": false
   },
   "outputs": [
    {
     "name": "stdout",
     "output_type": "stream",
     "text": [
      "[[ 1  2  3 12  6]\n",
      " [ 4  5  6 15 20]\n",
      " [ 7  8  9 10 10]]\n"
     ]
    }
   ],
   "source": [
    "# matriz a utilizar\n",
    "print A"
   ]
  },
  {
   "cell_type": "markdown",
   "metadata": {},
   "source": [
    "La transposición parece una imagen reflejada de la misma matriz."
   ]
  },
  {
   "cell_type": "code",
   "execution_count": 56,
   "metadata": {
    "collapsed": false
   },
   "outputs": [
    {
     "name": "stdout",
     "output_type": "stream",
     "text": [
      "[[ 1  4  7]\n",
      " [ 2  5  8]\n",
      " [ 3  6  9]\n",
      " [12 15 10]\n",
      " [ 6 20 10]]\n"
     ]
    }
   ],
   "source": [
    "# transpuesta de la matriz\n",
    "print np.transpose(A)"
   ]
  },
  {
   "cell_type": "markdown",
   "metadata": {},
   "source": [
    "Pero $\\omega$ aquí hay una matriz de 1 dimensión, ¡un vector! Resulta perfecto tomar la transposición de $A$, una matriz de $3 \\times 5$, ya que la salida será una matriz de $5 \\times 3$, pero una matriz de 1 dimensión no es tan intuitiva. Una matriz típica de 1 dimensión se puede considerar como un vector horizontal de $1 \\times n$. Por lo tanto, tomar la transposición de este conjunto esencialmente significa cambiarlo en un vector vertical $n \\times 1$. Esto tiene sentido porque las matrices de 1 dimensión todavía son matrices y cualquier multiplicación hecha entre matrices de dimensiones 1 y superiores debe mantenerse en línea con nuestro problema de dimensionalidad de la multiplicación de matrices.\n",
    "\n",
    "Para abreviar, pensamos en $\\omega$ como $1 \\times N$ ya que tenemos $N$ valores. Esto hace que $\\omega^\\intercal$ es $N \\times 1$. De nuevo, nuestra matriz de covarianza es $N \\times N$. Entonces la multiplicación general funciona así, en términos informales:\n",
    "\n",
    "$$ \\text{Dimensions}(\\sigma_p^2) = \\text{Dimensions}(\\omega C \\omega^\\intercal) = (1 \\times N)\\cdot (N \\times N)\\cdot (N \\times 1) = (1 \\times 1)$$\n",
    "\n",
    "La multiplicación de la matriz de covarianza a la izquierda por el vector horizontal simple y a la derecha por la transposición de ese vector da como resultado el cálculo de un único valor escalar ($1 \\times 1$) la varianza de nuestra cartera.\n",
    "\n",
    "¡Sabiendo esto, procedamos y calculemos la varianza de la cartera! Podemos calcular fácilmente el producto de estas matrices usando dot () para la multiplicación de la matriz, aunque esta vez tenemos que hacerlo dos veces."
   ]
  },
  {
   "cell_type": "code",
   "execution_count": 57,
   "metadata": {
    "collapsed": false,
    "scrolled": false
   },
   "outputs": [
    {
     "name": "stdout",
     "output_type": "stream",
     "text": [
      "Volatilidad de la cartera:  0.0302268872233\n"
     ]
    }
   ],
   "source": [
    "# calculo de la volatilidad de la cartera\n",
    "var_p = np.dot(np.dot(weights, cov_mat), weights.T)\n",
    "vol_p = np.sqrt(var_p)\n",
    "print \"Volatilidad de la cartera: \", vol_p"
   ]
  },
  {
   "cell_type": "markdown",
   "metadata": {},
   "source": [
    "Para confirmar este cálculo, simplemente evaluemos la volatilidad de la cartera utilizando solo funciones de NumPy."
   ]
  },
  {
   "cell_type": "code",
   "execution_count": 58,
   "metadata": {
    "collapsed": false
   },
   "outputs": [
    {
     "name": "stdout",
     "output_type": "stream",
     "text": [
      "Volatilidad de la cartera:  0.0302268872233\n"
     ]
    }
   ],
   "source": [
    "# calculo de confirmacion\n",
    "vol_p_alt = np.sqrt(np.var(np.dot(weights, returns), ddof=1))\n",
    "print \"Volatilidad de la cartera: \", vol_p_alt"
   ]
  },
  {
   "cell_type": "markdown",
   "metadata": {},
   "source": [
    "El parámetro ddof es una entrada entera simple que le dice a la función el número de grados de libertad a tener en cuenta. Este es un concepto más estadístico, ¡pero esto nos dice que nuestro cálculo matricial es correcto!\n",
    "\n",
    "Mucho de esto podría no tener sentido a primera vista. Ayuda a ir y venir entre la teoría y las representaciones del código hasta que tenga una mejor comprensión de las matemáticas involucradas. Definitivamente no es necesario ser un experto en álgebra lineal y en operaciones matriciales, pero el álgebra lineal puede ayudar a optimizar el proceso de trabajo con grandes cantidades de datos. Para leer más sobre NumPy, consulte la documentación.  [documentation](https://docs.scipy.org/doc/numpy/user/index.html)."
   ]
  },
  {
   "cell_type": "markdown",
   "metadata": {},
   "source": [
    "*This presentation is for informational purposes only and does not constitute an offer to sell, a solicitation to buy, or a recommendation for any security; nor does it constitute an offer to provide investment advisory or other services by Quantopian, Inc. (\"Quantopian\"). Nothing contained herein constitutes investment advice or offers any opinion with respect to the suitability of any security, and any views expressed herein should not be taken as advice to buy, sell, or hold any security or as an endorsement of any security or company.  In preparing the information contained herein, Quantopian, Inc. has not taken into account the investment needs, objectives, and financial circumstances of any particular investor. Any views expressed and data illustrated herein were prepared based upon information, believed to be reliable, available to Quantopian, Inc. at the time of publication. Quantopian makes no guarantees as to their accuracy or completeness. All information is subject to change and may quickly become unreliable for various reasons, including changes in market conditions or economic circumstances.*"
   ]
  }
 ],
 "metadata": {
  "kernelspec": {
   "display_name": "Python 2",
   "language": "python",
   "name": "python2"
  },
  "language_info": {
   "codemirror_mode": {
    "name": "ipython",
    "version": 2
   },
   "file_extension": ".py",
   "mimetype": "text/x-python",
   "name": "python",
   "nbconvert_exporter": "python",
   "pygments_lexer": "ipython2",
   "version": "2.7.12"
  }
 },
 "nbformat": 4,
 "nbformat_minor": 0
}