{
 "cells": [
  {
   "cell_type": "markdown",
   "metadata": {},
   "source": [
    "# Introducción a Python\n",
    "\n",
    "Parte de la serie de conferencias Quantopian:\n",
    "\n",
    "* [www.quantopian.com/lectures](https://www.quantopian.com/lectures)\n",
    "* [github.com/quantopian/research_public](https://github.com/quantopian/research_public)\n",
    "\n",
    "Cuaderno publicado bajo la licencia Creative Commons Attribution 4.0.\n",
    "\n",
    "Toda la codificación que harás en la plataforma Quantopian estará en Python. ¡También es un buen lenguaje de todos los oficios para saber! Aquí le proporcionaremos los conceptos básicos para que pueda sentirse seguro pasando por nuestras otras conferencias y comprendiendo lo que está sucediendo.\n"
   ]
  },
  {
   "cell_type": "markdown",
   "metadata": {},
   "source": [
    "# Código de Comentarios\n",
    "\n",
    "Un comentario es una nota hecha por un programador en el código fuente de un programa. Su propósito es aclarar el código fuente y facilitar que las personas sigan lo que está sucediendo. Por lo general, se ignora todo lo que se dice en un comentario cuando se ejecuta realmente el código, lo que hace que los comentarios sean útiles para incluir explicaciones y razonamientos, así como para eliminar líneas específicas de código de las que puede estar inseguro. Los comentarios en Python se crean utilizando el símbolo de libra (# Insertar texto aquí). Incluir un # en una línea de código comentará cualquier cosa que lo siga."
   ]
  },
  {
   "cell_type": "code",
   "execution_count": 1,
   "metadata": {
    "collapsed": true
   },
   "outputs": [],
   "source": [
    "# Este es un comentario\n",
    "# Estas líneas de código no cambiarán ningún valor\n",
    "# Cualquier cosa que siga al primer # no se ejecuta como código"
   ]
  },
  {
   "cell_type": "markdown",
   "metadata": {},
   "source": [
    "Es posible que escuche el texto entre comillas triples (\"\" \"Insertar texto aquí\" \"\") a los que se hace referencia como comentarios de varias líneas, pero esto no es del todo exacto. Este es un tipo especial de cadena (un tipo de datos que cubriremos), llamada docstring, que se usa para explicar el propósito de una función."
   ]
  },
  {
   "cell_type": "code",
   "execution_count": null,
   "metadata": {
    "collapsed": false
   },
   "outputs": [],
   "source": [
    "# otra opcion para comentar\n",
    "\"\"\" This is a special string \"\"\""
   ]
  },
  {
   "cell_type": "markdown",
   "metadata": {},
   "source": [
    "Asegúrese de leer los comentarios dentro de cada celda de código (si están allí). Ofrecerán más explicaciones en tiempo real de lo que está sucediendo mientras mira cada línea de código."
   ]
  },
  {
   "cell_type": "markdown",
   "metadata": {},
   "source": [
    "# Variables\n",
    "\n",
    "Las variables proporcionan nombres para los valores en la programación. Si desea guardar un valor para uso posterior o repetido, le da un nombre al valor, almacenando el contenido en una variable. Las variables en la programación funcionan de una manera fundamentalmente similar a las variables en álgebra, pero en Python pueden tomar diferentes tipos de datos.\n",
    "\n",
    "Los tipos de variables básicas que trataremos en esta sección son enteros, números de coma flotante, booleanos y cadenas.\n",
    "\n",
    "Un número entero en la programación es el mismo que en matemáticas, un número redondo sin valores después del punto decimal. Utilizamos la función de impresión incorporada aquí para mostrar los valores de nuestras variables y sus tipos."
   ]
  },
  {
   "cell_type": "code",
   "execution_count": 3,
   "metadata": {
    "collapsed": false
   },
   "outputs": [
    {
     "name": "stdout",
     "output_type": "stream",
     "text": [
      "(50, <type 'int'>)\n"
     ]
    }
   ],
   "source": [
    "my_integer = 50\n",
    "print (my_integer, type(my_integer))"
   ]
  },
  {
   "cell_type": "markdown",
   "metadata": {},
   "source": [
    "Las variables, independientemente del tipo, se asignan utilizando un solo signo igual (=). Las variables distinguen entre mayúsculas y minúsculas, por lo que cualquier cambio en la variación de las mayúsculas de un nombre de variable hará referencia a una variable diferente por completo."
   ]
  },
  {
   "cell_type": "code",
   "execution_count": 5,
   "metadata": {
    "collapsed": false
   },
   "outputs": [
    {
     "ename": "NameError",
     "evalue": "name 'One' is not defined",
     "output_type": "error",
     "traceback": [
      "\u001b[0;31m\u001b[0m",
      "\u001b[0;31mNameError\u001b[0mTraceback (most recent call last)",
      "\u001b[0;32m<ipython-input-5-0f8f754425ce>\u001b[0m in \u001b[0;36m<module>\u001b[0;34m()\u001b[0m\n\u001b[1;32m      1\u001b[0m \u001b[0;31m# muestra error debido a que la variable es diferente\u001b[0m\u001b[0;34m\u001b[0m\u001b[0;34m\u001b[0m\u001b[0m\n\u001b[1;32m      2\u001b[0m \u001b[0mone\u001b[0m \u001b[0;34m=\u001b[0m \u001b[0;36m1\u001b[0m\u001b[0;34m\u001b[0m\u001b[0m\n\u001b[0;32m----> 3\u001b[0;31m \u001b[0;32mprint\u001b[0m \u001b[0;34m(\u001b[0m\u001b[0mOne\u001b[0m\u001b[0;34m)\u001b[0m\u001b[0;34m\u001b[0m\u001b[0m\n\u001b[0m",
      "\u001b[0;31mNameError\u001b[0m: name 'One' is not defined"
     ]
    }
   ],
   "source": [
    "# muestra error debido a que la variable es diferente\n",
    "one = 1\n",
    "print (One)"
   ]
  },
  {
   "cell_type": "markdown",
   "metadata": {},
   "source": [
    "Un número de punto flotante o un flotante es un nombre elegante para un número real (de nuevo como en matemáticas). Para definir un flotante, debemos incluir un punto decimal o especificar que el valor sea un flotante."
   ]
  },
  {
   "cell_type": "code",
   "execution_count": 6,
   "metadata": {
    "collapsed": false,
    "scrolled": true
   },
   "outputs": [
    {
     "name": "stdout",
     "output_type": "stream",
     "text": [
      "1.0 <type 'float'>\n",
      "1.0 <type 'float'>\n"
     ]
    }
   ],
   "source": [
    "my_float = 1.0\n",
    "print my_float, type(my_float)\n",
    "my_float = float(1)\n",
    "print my_float, type(my_float)"
   ]
  },
  {
   "cell_type": "markdown",
   "metadata": {},
   "source": [
    "Una variable de tipo float no redondeará el número que almacene en ella, mientras que una variable de tipo entero lo hará. Esto hace que las carrozas sean más adecuadas para cálculos matemáticos en los que desee más que enteros.\n",
    "\n",
    "Tenga en cuenta que cuando usamos la función float () para forzar a un número a considerarse float, podemos usar la función int () para forzar que un número se considere un int."
   ]
  },
  {
   "cell_type": "code",
   "execution_count": 7,
   "metadata": {
    "collapsed": false
   },
   "outputs": [
    {
     "name": "stdout",
     "output_type": "stream",
     "text": [
      "3 <type 'int'>\n"
     ]
    }
   ],
   "source": [
    "# imprime el valor de la variabel y su tipo de dato\n",
    "my_int = int(3.14159)\n",
    "print my_int, type(my_int)"
   ]
  },
  {
   "cell_type": "markdown",
   "metadata": {},
   "source": [
    "La función int () también truncará cualquier dígito que pueda tener un número después del punto decimal.\n",
    "\n",
    "Las cadenas le permiten incluir texto como una variable para operar. Se definen usando comillas simples ('') o comillas dobles (\"\")."
   ]
  },
  {
   "cell_type": "code",
   "execution_count": 9,
   "metadata": {
    "collapsed": false
   },
   "outputs": [
    {
     "name": "stdout",
     "output_type": "stream",
     "text": [
      "Esta es una cadena con comillas simples\n",
      "Esta es una cadena con comillas dobles\n"
     ]
    }
   ],
   "source": [
    "my_string = 'Esta es una cadena con comillas simples'\n",
    "print my_string\n",
    "my_string = \"Esta es una cadena con comillas dobles\"\n",
    "print my_string"
   ]
  },
  {
   "cell_type": "markdown",
   "metadata": {},
   "source": [
    "Ambos están permitidos para que podamos incluir apóstrofes o comillas en una cadena si así lo elegimos."
   ]
  },
  {
   "cell_type": "code",
   "execution_count": 10,
   "metadata": {
    "collapsed": false
   },
   "outputs": [
    {
     "name": "stdout",
     "output_type": "stream",
     "text": [
      "\"Jabberwocky\", by Lewis Carroll\n",
      "'Twas brillig, and the slithy toves / Did gyre and gimble in the wabe;\n"
     ]
    }
   ],
   "source": [
    "my_string = '\"Jabberwocky\", by Lewis Carroll'\n",
    "print my_string\n",
    "my_string = \"'Twas brillig, and the slithy toves / Did gyre and gimble in the wabe;\"\n",
    "print my_string"
   ]
  },
  {
   "cell_type": "markdown",
   "metadata": {},
   "source": [
    "Los booleanos o bools son tipos de variables binarias. Un bool solo puede asumir uno de dos valores, estos son True o False. Hay mucho más en esta idea de los valores de verdad en lo que respecta a la programación, que trataremos más adelante en los Operadores Lógicos de este cuaderno."
   ]
  },
  {
   "cell_type": "code",
   "execution_count": 11,
   "metadata": {
    "collapsed": false
   },
   "outputs": [
    {
     "name": "stdout",
     "output_type": "stream",
     "text": [
      "True <type 'bool'>\n"
     ]
    }
   ],
   "source": [
    "my_bool = True\n",
    "print my_bool, type(my_bool)"
   ]
  },
  {
   "cell_type": "markdown",
   "metadata": {},
   "source": [
    "¡Hay muchos más tipos de datos que puede asignar como variables en Python, pero estos son los básicos! Vamos a cubrir algunos más más adelante a medida que avanzamos en este tutorial."
   ]
  },
  {
   "cell_type": "markdown",
   "metadata": {},
   "source": [
    "# Matemáticas Básicas\n",
    "\n",
    "Python tiene una serie de funciones matemáticas incorporadas. Estos pueden extenderse aún más importando el paquete matemático o incluyendo cualquier cantidad de otros paquetes basados en cálculo.\n",
    "\n",
    "Todas las operaciones aritméticas básicas son compatibles: +, -, / y *. Puede crear exponentes usando ** y la aritmética modular se introduce con el operador % de mod.\n"
   ]
  },
  {
   "cell_type": "code",
   "execution_count": 13,
   "metadata": {
    "collapsed": false
   },
   "outputs": [
    {
     "name": "stdout",
     "output_type": "stream",
     "text": [
      "Adicion:  4\n",
      "Sustraccion:  3\n",
      "Multiplicaxion:  10\n",
      "Division:  5\n",
      "Exponenciacion:  9\n"
     ]
    }
   ],
   "source": [
    "print 'Adicion: ', 2 + 2\n",
    "print 'Sustraccion: ', 7 - 4\n",
    "print 'Multiplicaxion: ', 2 * 5\n",
    "print 'Division: ', 10 / 2\n",
    "print 'Exponenciacion: ', 3**2"
   ]
  },
  {
   "cell_type": "markdown",
   "metadata": {},
   "source": [
    "Si no está familiarizado con el operador de mod, funciona como una función de resto. Si escribimos 15 % 4, devolverá el resto después de dividir 15 por 4."
   ]
  },
  {
   "cell_type": "code",
   "execution_count": 14,
   "metadata": {
    "collapsed": false
   },
   "outputs": [
    {
     "name": "stdout",
     "output_type": "stream",
     "text": [
      "Modulo:  3\n"
     ]
    }
   ],
   "source": [
    "print 'Modulo: ', 15 % 4"
   ]
  },
  {
   "cell_type": "markdown",
   "metadata": {},
   "source": [
    "¡Las funciones matemáticas también funcionan en variables!"
   ]
  },
  {
   "cell_type": "code",
   "execution_count": 15,
   "metadata": {
    "collapsed": false,
    "scrolled": true
   },
   "outputs": [
    {
     "name": "stdout",
     "output_type": "stream",
     "text": [
      "20\n"
     ]
    }
   ],
   "source": [
    "first_integer = 4\n",
    "second_integer = 5\n",
    "print first_integer * second_integer"
   ]
  },
  {
   "cell_type": "markdown",
   "metadata": {},
   "source": [
    "Asegúrate de que tus variables sean flotantes si quieres tener puntos decimales en tu respuesta. Si realizas matemáticas exclusivamente con enteros, obtienes un entero. Incluir cualquier flotación en el cálculo hará que el resultado sea flotante."
   ]
  },
  {
   "cell_type": "code",
   "execution_count": 16,
   "metadata": {
    "collapsed": false
   },
   "outputs": [
    {
     "name": "stdout",
     "output_type": "stream",
     "text": [
      "3\n"
     ]
    }
   ],
   "source": [
    "first_integer = 11\n",
    "second_integer = 3\n",
    "print first_integer / second_integer"
   ]
  },
  {
   "cell_type": "code",
   "execution_count": 17,
   "metadata": {
    "collapsed": false
   },
   "outputs": [
    {
     "name": "stdout",
     "output_type": "stream",
     "text": [
      "3.66666666667\n"
     ]
    }
   ],
   "source": [
    "first_number = 11.0\n",
    "second_number = 3.0\n",
    "print first_number / second_number"
   ]
  },
  {
   "cell_type": "markdown",
   "metadata": {},
   "source": [
    "Python tiene algunas funciones matemáticas incorporadas. Los más notables de estos son:\n",
    "\n",
    "* `abs()`\n",
    "* `round()`\n",
    "* `max()`\n",
    "* `min()`\n",
    "* `sum()`\n",
    "\n",
    "Todas estas funciones actúan como es de esperar, dados sus nombres. Llamar a abs () en un número devolverá su valor absoluto. La función round () redondeará un número a un número específico de puntos decimales (el valor predeterminado es 00). Al llamar a max () o min () en una colección de números, se devolverá, respectivamente, el valor máximo o mínimo en la colección. Llamar a sum () en una colección de números los agregará todos. Si no está familiarizado con el funcionamiento de las colecciones de valores en Python, ¡no se preocupe! Cubriremos las colecciones en profundidad en la siguiente sección.\n",
    "\n",
    "Se puede agregar funcionalidad matemática adicional con el paquete matemático."
   ]
  },
  {
   "cell_type": "code",
   "execution_count": 18,
   "metadata": {
    "collapsed": true
   },
   "outputs": [],
   "source": [
    "import math"
   ]
  },
  {
   "cell_type": "markdown",
   "metadata": {},
   "source": [
    "La biblioteca matemática agrega una larga lista de nuevas funciones matemáticas a Python. No dude en consultar la [documentacion](https://docs.python.org/2/library/math.html) para obtener la lista completa y los detalles. Concluye algunas constantes matemáticas."
   ]
  },
  {
   "cell_type": "code",
   "execution_count": 19,
   "metadata": {
    "collapsed": false
   },
   "outputs": [
    {
     "name": "stdout",
     "output_type": "stream",
     "text": [
      "Pi:  3.14159265359\n",
      "Euler's Constant:  2.71828182846\n"
     ]
    }
   ],
   "source": [
    "print 'Pi: ', math.pi\n",
    "print \"Euler's Constant: \", math.e"
   ]
  },
  {
   "cell_type": "markdown",
   "metadata": {},
   "source": [
    "Además de algunas funciones matemáticas comúnmente utilizadas"
   ]
  },
  {
   "cell_type": "code",
   "execution_count": 20,
   "metadata": {
    "collapsed": false
   },
   "outputs": [
    {
     "name": "stdout",
     "output_type": "stream",
     "text": [
      "Cosine of pi:  -1.0\n"
     ]
    }
   ],
   "source": [
    "print 'Cosine of pi: ', math.cos(math.pi)"
   ]
  },
  {
   "cell_type": "markdown",
   "metadata": {},
   "source": [
    "# Colecciones\n",
    "\n",
    "### Listas\n",
    "\n",
    "Una lista en Python es una colección ordenada de objetos que pueden contener cualquier tipo de datos. Definimos una lista usando corchetes ([])."
   ]
  },
  {
   "cell_type": "code",
   "execution_count": 21,
   "metadata": {
    "collapsed": false
   },
   "outputs": [
    {
     "name": "stdout",
     "output_type": "stream",
     "text": [
      "[1, 2, 3]\n"
     ]
    }
   ],
   "source": [
    "my_list = [1, 2, 3]\n",
    "print my_list"
   ]
  },
  {
   "cell_type": "markdown",
   "metadata": {},
   "source": [
    "Podemos acceder e indexar la lista usando corchetes también. Para seleccionar un elemento individual, simplemente escriba el nombre de la lista seguido del índice del artículo que está buscando entre llaves."
   ]
  },
  {
   "cell_type": "code",
   "execution_count": 22,
   "metadata": {
    "collapsed": false
   },
   "outputs": [
    {
     "name": "stdout",
     "output_type": "stream",
     "text": [
      "1\n",
      "3\n"
     ]
    }
   ],
   "source": [
    "print my_list[0]\n",
    "print my_list[2]"
   ]
  },
  {
   "cell_type": "markdown",
   "metadata": {},
   "source": [
    "La indexación en Python comienza desde 0. Si tiene una lista de longitud n, el primer elemento de la lista está en el índice 0, el segundo elemento está en el índice 1, y así sucesivamente. El elemento final de la lista estará en el índice n-1. ¡Ten cuidado! Intentar acceder a un índice inexistente causará un error."
   ]
  },
  {
   "cell_type": "code",
   "execution_count": 25,
   "metadata": {
    "collapsed": false
   },
   "outputs": [
    {
     "name": "stdout",
     "output_type": "stream",
     "text": [
      " Los elementos de lista primero, segundo y tercero:  1 2 3\n",
      "El acceso fuera de los límites de la lista causa un error: "
     ]
    },
    {
     "ename": "IndexError",
     "evalue": "list index out of range",
     "output_type": "error",
     "traceback": [
      "\u001b[0;31m\u001b[0m",
      "\u001b[0;31mIndexError\u001b[0mTraceback (most recent call last)",
      "\u001b[0;32m<ipython-input-25-9fb03a9de1e7>\u001b[0m in \u001b[0;36m<module>\u001b[0;34m()\u001b[0m\n\u001b[1;32m      1\u001b[0m \u001b[0;31m# nos dara error, pues los strings no se pueden modificar\u001b[0m\u001b[0;34m\u001b[0m\u001b[0;34m\u001b[0m\u001b[0m\n\u001b[1;32m      2\u001b[0m \u001b[0;32mprint\u001b[0m \u001b[0;34m'Los elementos de lista primero, segundo y tercero: '\u001b[0m\u001b[0;34m,\u001b[0m \u001b[0mmy_list\u001b[0m\u001b[0;34m[\u001b[0m\u001b[0;36m0\u001b[0m\u001b[0;34m]\u001b[0m\u001b[0;34m,\u001b[0m \u001b[0mmy_list\u001b[0m\u001b[0;34m[\u001b[0m\u001b[0;36m1\u001b[0m\u001b[0;34m]\u001b[0m\u001b[0;34m,\u001b[0m \u001b[0mmy_list\u001b[0m\u001b[0;34m[\u001b[0m\u001b[0;36m2\u001b[0m\u001b[0;34m]\u001b[0m\u001b[0;34m\u001b[0m\u001b[0m\n\u001b[0;32m----> 3\u001b[0;31m \u001b[0;32mprint\u001b[0m \u001b[0;34m'El acceso fuera de los límites de la lista causa un error: '\u001b[0m\u001b[0;34m,\u001b[0m \u001b[0mmy_list\u001b[0m\u001b[0;34m[\u001b[0m\u001b[0;36m3\u001b[0m\u001b[0;34m]\u001b[0m\u001b[0;34m\u001b[0m\u001b[0m\n\u001b[0m",
      "\u001b[0;31mIndexError\u001b[0m: list index out of range"
     ]
    }
   ],
   "source": [
    "# nos dara error, pues los strings no se pueden modificar\n",
    "print 'Los elementos de lista primero, segundo y tercero: ', my_list[0], my_list[1], my_list[2]\n",
    "print 'El acceso fuera de los límites de la lista causa un error: ', my_list[3]"
   ]
  },
  {
   "cell_type": "markdown",
   "metadata": {},
   "source": [
    "Podemos ver la cantidad de elementos en una lista llamando a la función len ()."
   ]
  },
  {
   "cell_type": "code",
   "execution_count": 26,
   "metadata": {
    "collapsed": false
   },
   "outputs": [
    {
     "name": "stdout",
     "output_type": "stream",
     "text": [
      " 3\n"
     ]
    }
   ],
   "source": [
    "print len(my_list)"
   ]
  },
  {
   "cell_type": "markdown",
   "metadata": {},
   "source": [
    "Podemos actualizar y cambiar una lista accediendo a un índice y asignando un nuevo valor."
   ]
  },
  {
   "cell_type": "code",
   "execution_count": 27,
   "metadata": {
    "collapsed": false
   },
   "outputs": [
    {
     "name": "stdout",
     "output_type": "stream",
     "text": [
      "[1, 2, 3]\n",
      "[42, 2, 3]\n"
     ]
    }
   ],
   "source": [
    "print my_list\n",
    "my_list[0] = 42\n",
    "print my_list"
   ]
  },
  {
   "cell_type": "markdown",
   "metadata": {},
   "source": [
    "Esto es fundamentalmente diferente de cómo se manejan las cadenas. Una lista es mutable, lo que significa que puede cambiar los elementos de una lista sin cambiar la lista. Algunos tipos de datos, como cadenas, son inmutables, lo que significa que no puede cambiarlos en absoluto. Una vez que se ha creado una cadena u otro tipo de datos inmutables, no se puede modificar directamente sin crear un objeto completamente nuevo."
   ]
  },
  {
   "cell_type": "code",
   "execution_count": 29,
   "metadata": {
    "collapsed": false
   },
   "outputs": [
    {
     "ename": "TypeError",
     "evalue": "'str' object does not support item assignment",
     "output_type": "error",
     "traceback": [
      "\u001b[0;31m\u001b[0m",
      "\u001b[0;31mTypeError\u001b[0mTraceback (most recent call last)",
      "\u001b[0;32m<ipython-input-29-43ee84bec392>\u001b[0m in \u001b[0;36m<module>\u001b[0;34m()\u001b[0m\n\u001b[1;32m      1\u001b[0m \u001b[0mmy_string\u001b[0m \u001b[0;34m=\u001b[0m \u001b[0;34m\"Las cadenas nunca cambian\"\u001b[0m\u001b[0;34m\u001b[0m\u001b[0m\n\u001b[0;32m----> 2\u001b[0;31m \u001b[0mmy_string\u001b[0m\u001b[0;34m[\u001b[0m\u001b[0;36m0\u001b[0m\u001b[0;34m]\u001b[0m \u001b[0;34m=\u001b[0m \u001b[0;34m'Z'\u001b[0m\u001b[0;34m\u001b[0m\u001b[0m\n\u001b[0m",
      "\u001b[0;31mTypeError\u001b[0m: 'str' object does not support item assignment"
     ]
    }
   ],
   "source": [
    "my_string = \"Las cadenas nunca cambian\"\n",
    "my_string[0] = 'Z'"
   ]
  },
  {
   "cell_type": "markdown",
   "metadata": {},
   "source": [
    "Como mencionamos anteriormente, una lista puede contener cualquier tipo de datos. Por lo tanto, las listas también pueden contener cadenas."
   ]
  },
  {
   "cell_type": "code",
   "execution_count": 30,
   "metadata": {
    "collapsed": false
   },
   "outputs": [
    {
     "name": "stdout",
     "output_type": "stream",
     "text": [
      "['one', 'two', 'three']\n"
     ]
    }
   ],
   "source": [
    "my_list_2 = ['one', 'two', 'three']\n",
    "print my_list_2"
   ]
  },
  {
   "cell_type": "markdown",
   "metadata": {},
   "source": [
    "¡Las listas también pueden contener múltiples tipos de datos diferentes a la vez!"
   ]
  },
  {
   "cell_type": "code",
   "execution_count": 32,
   "metadata": {
    "collapsed": false
   },
   "outputs": [
    {
     "name": "stdout",
     "output_type": "stream",
     "text": [
      "[True, 'False', 42]\n"
     ]
    }
   ],
   "source": [
    "my_list_3 = [True, 'False', 42]\n",
    "print my_list_3"
   ]
  },
  {
   "cell_type": "markdown",
   "metadata": {},
   "source": [
    "Si desea juntar dos listas, se pueden combinar con un símbolo +."
   ]
  },
  {
   "cell_type": "code",
   "execution_count": 33,
   "metadata": {
    "collapsed": false
   },
   "outputs": [
    {
     "name": "stdout",
     "output_type": "stream",
     "text": [
      "[42, 2, 3, 'one', 'two', 'three', True, 'False', 42]\n"
     ]
    }
   ],
   "source": [
    "my_list_4 = my_list + my_list_2 + my_list_3\n",
    "print my_list_4"
   ]
  },
  {
   "cell_type": "markdown",
   "metadata": {},
   "source": [
    "Además de acceder a elementos individuales de una lista, podemos acceder a grupos de elementos mediante el corte."
   ]
  },
  {
   "cell_type": "code",
   "execution_count": 35,
   "metadata": {
    "collapsed": false
   },
   "outputs": [
    {
     "name": "stdout",
     "output_type": "stream",
     "text": [
      "['friends', 'romans', 'countrymen', 'lend', 'me', 'your', 'ears']\n"
     ]
    }
   ],
   "source": [
    "my_list = ['friends', 'romans', 'countrymen', 'lend', 'me', 'your', 'ears']\n",
    "print my_list"
   ]
  },
  {
   "cell_type": "markdown",
   "metadata": {},
   "source": [
    "# Rebanar\n",
    "Usamos los dos puntos (:) para cortar listas.\n"
   ]
  },
  {
   "cell_type": "code",
   "execution_count": 36,
   "metadata": {
    "collapsed": false,
    "scrolled": true
   },
   "outputs": [
    {
     "name": "stdout",
     "output_type": "stream",
     "text": [
      "['countrymen', 'lend']\n"
     ]
    }
   ],
   "source": [
    "print my_list[2:4]"
   ]
  },
  {
   "cell_type": "markdown",
   "metadata": {},
   "source": [
    "Usando: podemos seleccionar un grupo de elementos en la lista a partir del primer elemento indicado y subir hasta (pero sin incluir) el último elemento indicado.\n",
    "\n",
    "También podemos seleccionar todo después de un cierto punto."
   ]
  },
  {
   "cell_type": "code",
   "execution_count": 37,
   "metadata": {
    "collapsed": false,
    "scrolled": true
   },
   "outputs": [
    {
     "name": "stdout",
     "output_type": "stream",
     "text": [
      "['romans', 'countrymen', 'lend', 'me', 'your', 'ears']\n"
     ]
    }
   ],
   "source": [
    "print my_list[1:]"
   ]
  },
  {
   "cell_type": "markdown",
   "metadata": {},
   "source": [
    "Y todo antes de cierto punto"
   ]
  },
  {
   "cell_type": "code",
   "execution_count": 38,
   "metadata": {
    "collapsed": false,
    "scrolled": true
   },
   "outputs": [
    {
     "name": "stdout",
     "output_type": "stream",
     "text": [
      "['friends', 'romans', 'countrymen', 'lend']\n"
     ]
    }
   ],
   "source": [
    "print my_list[:4]"
   ]
  },
  {
   "cell_type": "markdown",
   "metadata": {},
   "source": [
    "El uso de números negativos contará desde el final de los índices en lugar de desde el principio. Por ejemplo, un índice de -1 indica el último elemento de la lista."
   ]
  },
  {
   "cell_type": "code",
   "execution_count": 39,
   "metadata": {
    "collapsed": false
   },
   "outputs": [
    {
     "name": "stdout",
     "output_type": "stream",
     "text": [
      "ears\n"
     ]
    }
   ],
   "source": [
    "print my_list[-1]"
   ]
  },
  {
   "cell_type": "markdown",
   "metadata": {},
   "source": [
    "También puede agregar un tercer componente al corte. En lugar de simplemente indicar las partes primera y final de su porción, puede especificar el tamaño del paso que desea tomar. Entonces, en lugar de tomar cada elemento, puedes tomar cualquier otro elemento."
   ]
  },
  {
   "cell_type": "code",
   "execution_count": 40,
   "metadata": {
    "collapsed": false
   },
   "outputs": [
    {
     "name": "stdout",
     "output_type": "stream",
     "text": [
      "['friends', 'countrymen', 'me', 'ears']\n"
     ]
    }
   ],
   "source": [
    "print my_list[0:7:2]"
   ]
  },
  {
   "cell_type": "markdown",
   "metadata": {},
   "source": [
    "Aquí hemos seleccionado la lista completa (porque 0: 7 arrojará los elementos 0 a 6) y hemos seleccionado un tamaño de paso de 2. Entonces esto escupirá el elemento 0, elemento 2, elemento 4, y así sucesivamente a través del elemento de lista seleccionado. Podemos omitir indicando el comienzo y el final de nuestra porción, solo indicando el paso, si queremos."
   ]
  },
  {
   "cell_type": "code",
   "execution_count": 41,
   "metadata": {
    "collapsed": false
   },
   "outputs": [
    {
     "name": "stdout",
     "output_type": "stream",
     "text": [
      "['friends', 'countrymen', 'me', 'ears']\n"
     ]
    }
   ],
   "source": [
    "print my_list[::2]"
   ]
  },
  {
   "cell_type": "markdown",
   "metadata": {},
   "source": [
    "Las listas implícitamente seleccionan el principio y el final de la lista cuando no se especifica lo contrario."
   ]
  },
  {
   "cell_type": "code",
   "execution_count": 42,
   "metadata": {
    "collapsed": false
   },
   "outputs": [
    {
     "name": "stdout",
     "output_type": "stream",
     "text": [
      "['friends', 'romans', 'countrymen', 'lend', 'me', 'your', 'ears']\n"
     ]
    }
   ],
   "source": [
    "print my_list[:]"
   ]
  },
  {
   "cell_type": "markdown",
   "metadata": {},
   "source": [
    "¡Con un tamaño de paso negativo, podemos incluso invertir la lista!"
   ]
  },
  {
   "cell_type": "code",
   "execution_count": 43,
   "metadata": {
    "collapsed": false
   },
   "outputs": [
    {
     "name": "stdout",
     "output_type": "stream",
     "text": [
      "['ears', 'your', 'me', 'lend', 'countrymen', 'romans', 'friends']\n"
     ]
    }
   ],
   "source": [
    "print my_list[::-1]"
   ]
  },
  {
   "cell_type": "markdown",
   "metadata": {},
   "source": [
    "Python no tiene matrices nativas, pero con listas podemos producir un fascimile de trabajo. Otros paquetes, como numpy, agregan matrices como un tipo de datos separado, pero en Python base, la mejor forma de crear una matriz es usar una lista de listas."
   ]
  },
  {
   "cell_type": "markdown",
   "metadata": {},
   "source": [
    "También podemos usar funciones integradas para generar listas. En particular, veremos range () (¡porque lo usaremos más tarde!). El rango puede tomar varias entradas diferentes y devolverá una lista."
   ]
  },
  {
   "cell_type": "code",
   "execution_count": 44,
   "metadata": {
    "collapsed": false
   },
   "outputs": [
    {
     "name": "stdout",
     "output_type": "stream",
     "text": [
      "[0, 1, 2, 3, 4, 5, 6, 7, 8, 9]\n"
     ]
    }
   ],
   "source": [
    "b = 10\n",
    "my_list = range(b)\n",
    "print my_list"
   ]
  },
  {
   "cell_type": "markdown",
   "metadata": {},
   "source": [
    "De forma similar a nuestros métodos de división de listas anteriores, podemos definir tanto un inicio como un final para nuestro rango. Esto devolverá una lista que incluye el inicio y excluye el final, al igual que un corte."
   ]
  },
  {
   "cell_type": "code",
   "execution_count": 45,
   "metadata": {
    "collapsed": false
   },
   "outputs": [
    {
     "name": "stdout",
     "output_type": "stream",
     "text": [
      "[0, 1, 2, 3, 4, 5, 6, 7, 8, 9]\n"
     ]
    }
   ],
   "source": [
    "a = 0\n",
    "b = 10\n",
    "my_list = range(a, b)\n",
    "print my_list"
   ]
  },
  {
   "cell_type": "markdown",
   "metadata": {},
   "source": [
    "También podemos especificar un tamaño de paso. Esto nuevamente tiene el mismo comportamiento que una porción."
   ]
  },
  {
   "cell_type": "code",
   "execution_count": 46,
   "metadata": {
    "collapsed": false,
    "scrolled": true
   },
   "outputs": [
    {
     "name": "stdout",
     "output_type": "stream",
     "text": [
      "[0, 2, 4, 6, 8]\n"
     ]
    }
   ],
   "source": [
    "a = 0\n",
    "b = 10\n",
    "step = 2\n",
    "my_list = range(a, b, step)\n",
    "print my_list"
   ]
  },
  {
   "cell_type": "markdown",
   "metadata": {},
   "source": [
    "#Tuplas\n",
    "\n",
    "Una tupla es un tipo de datos similar a una lista en el sentido de que puede contener diferentes tipos de tipos de datos. La diferencia clave aquí es que una tupla es inmutable. Definimos una tupla separando los elementos que queremos incluir por comas. Es convencional rodear una tupla con paréntesis.\n"
   ]
  },
  {
   "cell_type": "code",
   "execution_count": 47,
   "metadata": {
    "collapsed": false
   },
   "outputs": [
    {
     "name": "stdout",
     "output_type": "stream",
     "text": [
      "('I', 'have', 30, 'cats')\n"
     ]
    }
   ],
   "source": [
    "my_tuple = 'I', 'have', 30, 'cats'\n",
    "print my_tuple"
   ]
  },
  {
   "cell_type": "code",
   "execution_count": 48,
   "metadata": {
    "collapsed": false
   },
   "outputs": [
    {
     "name": "stdout",
     "output_type": "stream",
     "text": [
      "('I', 'have', 30, 'cats')\n"
     ]
    }
   ],
   "source": [
    "my_tuple = ('I', 'have', 30, 'cats')\n",
    "print my_tuple"
   ]
  },
  {
   "cell_type": "markdown",
   "metadata": {},
   "source": [
    "Como se mencionó anteriormente, las tuplas son inmutables. No puede cambiar ninguna parte de ellas sin definir una nueva tupla."
   ]
  },
  {
   "cell_type": "code",
   "execution_count": 50,
   "metadata": {
    "collapsed": false
   },
   "outputs": [
    {
     "ename": "TypeError",
     "evalue": "'tuple' object does not support item assignment",
     "output_type": "error",
     "traceback": [
      "\u001b[0;31m\u001b[0m",
      "\u001b[0;31mTypeError\u001b[0mTraceback (most recent call last)",
      "\u001b[0;32m<ipython-input-50-60ecdd747cf0>\u001b[0m in \u001b[0;36m<module>\u001b[0;34m()\u001b[0m\n\u001b[1;32m      1\u001b[0m \u001b[0;31m# error\u001b[0m\u001b[0;34m\u001b[0m\u001b[0;34m\u001b[0m\u001b[0m\n\u001b[0;32m----> 2\u001b[0;31m \u001b[0mmy_tuple\u001b[0m\u001b[0;34m[\u001b[0m\u001b[0;36m3\u001b[0m\u001b[0;34m]\u001b[0m \u001b[0;34m=\u001b[0m \u001b[0;34m'dogs'\u001b[0m \u001b[0;31m# Intenta cambiar el valor de 'gatos' almacenado en la tupla a 'perros'\u001b[0m\u001b[0;34m\u001b[0m\u001b[0m\n\u001b[0m",
      "\u001b[0;31mTypeError\u001b[0m: 'tuple' object does not support item assignment"
     ]
    }
   ],
   "source": [
    "# error\n",
    "my_tuple[3] = 'dogs' # Intenta cambiar el valor de 'gatos' almacenado en la tupla a 'perros'"
   ]
  },
  {
   "cell_type": "markdown",
   "metadata": {},
   "source": [
    "¡Puedes cortar tuplas de la misma manera que cortas las listas!"
   ]
  },
  {
   "cell_type": "code",
   "execution_count": 51,
   "metadata": {
    "collapsed": false
   },
   "outputs": [
    {
     "name": "stdout",
     "output_type": "stream",
     "text": [
      "('have', 30)\n"
     ]
    }
   ],
   "source": [
    "print my_tuple[1:3]"
   ]
  },
  {
   "cell_type": "markdown",
   "metadata": {},
   "source": [
    "¡Y concatenarlos como lo harías con strings!"
   ]
  },
  {
   "cell_type": "code",
   "execution_count": 52,
   "metadata": {
    "collapsed": false
   },
   "outputs": [
    {
     "name": "stdout",
     "output_type": "stream",
     "text": [
      "('I', 'have', 30, 'cats', 'make', 'that', 50)\n"
     ]
    }
   ],
   "source": [
    "my_other_tuple = ('make', 'that', 50)\n",
    "print my_tuple + my_other_tuple"
   ]
  },
  {
   "cell_type": "markdown",
   "metadata": {},
   "source": [
    "Podemos 'empacar' valores juntos, creando una tupla (como la anterior), o podemos 'descomprimir' valores de una tupla, sacándolos."
   ]
  },
  {
   "cell_type": "code",
   "execution_count": 53,
   "metadata": {
    "collapsed": false
   },
   "outputs": [
    {
     "name": "stdout",
     "output_type": "stream",
     "text": [
      "make that 50\n"
     ]
    }
   ],
   "source": [
    "str_1, str_2, int_1 = my_other_tuple\n",
    "print str_1, str_2, int_1"
   ]
  },
  {
   "cell_type": "markdown",
   "metadata": {},
   "source": [
    "El desempaquetado asigna cada valor de la tupla para cada variable en el lado izquierdo del signo igual. Algunas funciones, incluidas las funciones definidas por el usuario, pueden devolver tuplas, por lo que podemos usarlas para desempaquetarlas directamente y acceder a los valores que deseamos."
   ]
  },
  {
   "cell_type": "markdown",
   "metadata": {},
   "source": [
    "# Conjuntos\n",
    "Un conjunto es una colección de elementos únicos desordenados. Funciona casi exactamente como esperaría que funcione un conjunto normal de cosas en matemáticas y se define utilizando llaves ({}).\n"
   ]
  },
  {
   "cell_type": "code",
   "execution_count": 54,
   "metadata": {
    "collapsed": false
   },
   "outputs": [
    {
     "name": "stdout",
     "output_type": "stream",
     "text": [
      "set([4, 7, 'lizards', 42, 'the number 4', 'man I just LOVE the number 4', 'dogs']) <type 'set'>\n"
     ]
    }
   ],
   "source": [
    "things_i_like = {'dogs', 7, 'the number 4', 4, 4, 4, 42, 'lizards', 'man I just LOVE the number 4'}\n",
    "print things_i_like, type(things_i_like)"
   ]
  },
  {
   "cell_type": "markdown",
   "metadata": {},
   "source": [
    "Observe cómo se eliminan las instancias adicionales del mismo elemento en el conjunto final. También podemos crear un conjunto a partir de una lista, utilizando la función set ()."
   ]
  },
  {
   "cell_type": "code",
   "execution_count": 56,
   "metadata": {
    "collapsed": false
   },
   "outputs": [
    {
     "name": "stdout",
     "output_type": "stream",
     "text": [
      "set(['lizards', 'cats', 'bats', 'sponges', 'cows', 'dogs'])\n"
     ]
    }
   ],
   "source": [
    "animal_list = ['cats', 'dogs', 'dogs', 'dogs', 'lizards', 'sponges', 'cows', 'bats', 'sponges']\n",
    "animal_set = set(animal_list)\n",
    "print animal_set # Elimina todas las instancias adicionales de la lista"
   ]
  },
  {
   "cell_type": "markdown",
   "metadata": {},
   "source": [
    "Llamar a len () en un conjunto le dirá la cantidad de elementos que contiene."
   ]
  },
  {
   "cell_type": "code",
   "execution_count": 57,
   "metadata": {
    "collapsed": false
   },
   "outputs": [
    {
     "name": "stdout",
     "output_type": "stream",
     "text": [
      "6\n"
     ]
    }
   ],
   "source": [
    "print len(animal_set)"
   ]
  },
  {
   "cell_type": "markdown",
   "metadata": {},
   "source": [
    "Como un conjunto no está ordenado, no podemos acceder a elementos individuales mediante un índice. Sin embargo, podemos verificar fácilmente la membresía (para ver si algo está contenido en un conjunto) y tomar las uniones y las intersecciones de conjuntos mediante el uso de las funciones de conjunto integradas.# Because a `set` is unordered, we can't access individual elements using an index. We can, however, easily check for membership (to see if something is contained in a set) and take the unions and intersections of sets by using the built-in set functions."
   ]
  },
  {
   "cell_type": "code",
   "execution_count": 59,
   "metadata": {
    "collapsed": false
   },
   "outputs": [
    {
     "data": {
      "text/plain": [
       "True"
      ]
     },
     "execution_count": 59,
     "metadata": {},
     "output_type": "execute_result"
    }
   ],
   "source": [
    "'cats' in animal_set # Aquí verificamos la membresía usando la palabra clave `in`."
   ]
  },
  {
   "cell_type": "markdown",
   "metadata": {},
   "source": [
    "Aquí verificamos si la cadena 'gatos' estaba dentro de nuestro animal_set y regresó True, diciéndonos que sí está en nuestro conjunto.\n",
    "\n",
    "Podemos conectar conjuntos utilizando operadores de conjuntos matemáticos típicos, a saber |, para unión, y &, para intersección. Usando | o devolverá exactamente lo que esperaría si está familiarizado con conjuntos en matemáticas."
   ]
  },
  {
   "cell_type": "code",
   "execution_count": 60,
   "metadata": {
    "collapsed": false
   },
   "outputs": [
    {
     "name": "stdout",
     "output_type": "stream",
     "text": [
      "set([4, 7, 'lizards', 42, 'the number 4', 'cats', 'bats', 'man I just LOVE the number 4', 'sponges', 'cows', 'dogs'])\n"
     ]
    }
   ],
   "source": [
    "print animal_set | things_i_like # También puedes escribir things_i_like | animal_set sin diferencia"
   ]
  },
  {
   "cell_type": "markdown",
   "metadata": {},
   "source": [
    "Emparejar dos conjuntos junto con | combina los conjuntos, eliminando cualquier repetición para que cada elemento del conjunto sea único."
   ]
  },
  {
   "cell_type": "code",
   "execution_count": 61,
   "metadata": {
    "collapsed": false
   },
   "outputs": [
    {
     "name": "stdout",
     "output_type": "stream",
     "text": [
      "set(['lizards', 'dogs'])\n"
     ]
    }
   ],
   "source": [
    "print animal_set & things_i_like # También puedes escribir things_i_like & animal_set sin diferencia"
   ]
  },
  {
   "cell_type": "markdown",
   "metadata": {},
   "source": [
    "Emparejando dos conjuntos junto con & calculará la intersección de ambos conjuntos, devolviendo un conjunto que solo contiene lo que tienen en común.\n",
    "\n",
    "Si está interesado en obtener más información sobre las funciones incorporadas para los conjuntos, no dude en consultar la documentación. [documentacion](https://docs.python.org/2/library/sets.html)."
   ]
  },
  {
   "cell_type": "markdown",
   "metadata": {},
   "source": [
    "# Diccionarios\n",
    "Otra estructura de datos esencial en Python es el diccionario. Los diccionarios se definen con una combinación de llaves ({}) y dos puntos (:). Las llaves definen el comienzo y el final de un diccionario y los dos puntos indican pares clave-valor. Un diccionario es esencialmente un conjunto de pares clave-valor. La clave de cualquier entrada debe ser un tipo de datos inmutables. Esto hace que las cadenas y las tuplas sean candidatas. Las claves se pueden agregar y eliminar.\n",
    "\n",
    "En el siguiente ejemplo, tenemos un diccionario compuesto por pares clave-valor donde la clave es un género de ficción (cadena) y el valor es una lista de libros (lista) dentro de ese género. Como una colección todavía se considera una entidad única, podemos usar una para recopilar múltiples variables o valores en un par clave-valor."
   ]
  },
  {
   "cell_type": "code",
   "execution_count": 62,
   "metadata": {
    "collapsed": true
   },
   "outputs": [],
   "source": [
    "# creamos un diccionario\n",
    "my_dict = {\"High Fantasy\": [\"Wheel of Time\", \"Lord of the Rings\"], \n",
    "           \"Sci-fi\": [\"Book of the New Sun\", \"Neuromancer\", \"Snow Crash\"],\n",
    "           \"Weird Fiction\": [\"At the Mountains of Madness\", \"The House on the Borderland\"]}"
   ]
  },
  {
   "cell_type": "markdown",
   "metadata": {},
   "source": [
    "Después de definir un diccionario, podemos acceder a cualquier valor individual al indicar su clave entre corchetes."
   ]
  },
  {
   "cell_type": "code",
   "execution_count": 63,
   "metadata": {
    "collapsed": false
   },
   "outputs": [
    {
     "name": "stdout",
     "output_type": "stream",
     "text": [
      "['Book of the New Sun', 'Neuromancer', 'Snow Crash']\n"
     ]
    }
   ],
   "source": [
    "print my_dict[\"Sci-fi\"]"
   ]
  },
  {
   "cell_type": "markdown",
   "metadata": {},
   "source": [
    "También podemos cambiar el valor asociado con una tecla dada"
   ]
  },
  {
   "cell_type": "code",
   "execution_count": 64,
   "metadata": {
    "collapsed": false
   },
   "outputs": [
    {
     "name": "stdout",
     "output_type": "stream",
     "text": [
      "I can't read\n"
     ]
    }
   ],
   "source": [
    "my_dict[\"Sci-fi\"] = \"I can't read\"\n",
    "print my_dict[\"Sci-fi\"]"
   ]
  },
  {
   "cell_type": "markdown",
   "metadata": {},
   "source": [
    "Agregar un nuevo par clave-valor es tan simple como definirlo."
   ]
  },
  {
   "cell_type": "code",
   "execution_count": 65,
   "metadata": {
    "collapsed": false
   },
   "outputs": [
    {
     "name": "stdout",
     "output_type": "stream",
     "text": [
      "['Pillars of the Earth']\n"
     ]
    }
   ],
   "source": [
    "my_dict[\"Historical Fiction\"] = [\"Pillars of the Earth\"]\n",
    "print my_dict[\"Historical Fiction\"]"
   ]
  },
  {
   "cell_type": "code",
   "execution_count": 66,
   "metadata": {
    "collapsed": false
   },
   "outputs": [
    {
     "name": "stdout",
     "output_type": "stream",
     "text": [
      "{'Historical Fiction': ['Pillars of the Earth'], 'Sci-fi': \"I can't read\", 'High Fantasy': ['Wheel of Time', 'Lord of the Rings'], 'Weird Fiction': ['At the Mountains of Madness', 'The House on the Borderland']}\n"
     ]
    }
   ],
   "source": [
    "print my_dict"
   ]
  },
  {
   "cell_type": "markdown",
   "metadata": {},
   "source": [
    "# String Shenanigans\n",
    "\n",
    "Ya sabemos que las cadenas generalmente se usan para texto. Podemos usar operaciones integradas para combinar, dividir y formatear cadenas de manera sencilla, según nuestras necesidades.\n",
    "\n",
    "El símbolo + indica concatenación en el lenguaje de cadena. Combinará dos cadenas en una cadena más larga."
   ]
  },
  {
   "cell_type": "code",
   "execution_count": 67,
   "metadata": {
    "collapsed": false
   },
   "outputs": [
    {
     "name": "stdout",
     "output_type": "stream",
     "text": [
      "\"Beware the Jabberwock, my son! /The jaws that bite, the claws that catch! /Beware the Jubjub bird, and shun /The frumious Bandersnatch!\"/\n"
     ]
    }
   ],
   "source": [
    "first_string = '\"Beware the Jabberwock, my son! /The jaws that bite, the claws that catch! /'\n",
    "second_string = 'Beware the Jubjub bird, and shun /The frumious Bandersnatch!\"/'\n",
    "third_string = first_string + second_string\n",
    "print third_string"
   ]
  },
  {
   "cell_type": "markdown",
   "metadata": {},
   "source": [
    "Las cadenas también se indexan de la misma manera que las listas."
   ]
  },
  {
   "cell_type": "code",
   "execution_count": 69,
   "metadata": {
    "collapsed": false
   },
   "outputs": [
    {
     "name": "stdout",
     "output_type": "stream",
     "text": [
      "La primera letra es:  S\n",
      "La última letra es:  s\n",
      "La penúltima letra es:  u\n",
      "Los primeros cinco caracteres son:  Super\n",
      "Al reves!:  suoicodilaipxecitsiligarfilacrepuS\n"
     ]
    }
   ],
   "source": [
    "my_string = 'Supercalifragilisticexpialidocious'\n",
    "print 'La primera letra es: ', my_string[0] # mayuscula S\n",
    "print 'La última letra es: ', my_string[-1] # minuscula s\n",
    "print 'La penúltima letra es: ', my_string[-2] # minuscula u\n",
    "print 'Los primeros cinco caracteres son: ', my_string[0:5] # Recuerde: cortar no incluye el elemento final.\n",
    "print 'Al reves!: ', my_string[::-1]"
   ]
  },
  {
   "cell_type": "markdown",
   "metadata": {},
   "source": [
    "Los objetos y clases incorporados suelen tener funciones especiales asociadas a ellos que se llaman métodos. Accedemos a estos métodos usando un punto ('.'). ¡Cubriremos más los objetos y sus métodos asociados en otra conferencia!\n",
    "\n",
    "Usando métodos de cadena, podemos contar instancias de un personaje o grupo de caracteres."
   ]
  },
  {
   "cell_type": "code",
   "execution_count": 74,
   "metadata": {
    "collapsed": false,
    "scrolled": true
   },
   "outputs": [
    {
     "name": "stdout",
     "output_type": "stream",
     "text": [
      "Cuantas letras is hay en Supercalifragilisticexpialidocious:  7\n",
      "Cuantas silabas \"li\" hay en la misma palabra:  3\n"
     ]
    }
   ],
   "source": [
    "print 'Cuantas letras ies hay en Supercalifragilisticexpialidocious: ', my_string.count('i')\n",
    "print 'Cuantas silabas \"li\" hay en la misma palabra: ', my_string.count('li')"
   ]
  },
  {
   "cell_type": "markdown",
   "metadata": {},
   "source": [
    "También podemos encontrar la primera instancia de un personaje o grupo de caracteres en una cadena."
   ]
  },
  {
   "cell_type": "code",
   "execution_count": 75,
   "metadata": {
    "collapsed": false
   },
   "outputs": [
    {
     "name": "stdout",
     "output_type": "stream",
     "text": [
      "La primera vez que aparece está en el índice:  8\n"
     ]
    }
   ],
   "source": [
    "print 'La primera vez que aparece está en el índice: ', my_string.find('i')"
   ]
  },
  {
   "cell_type": "markdown",
   "metadata": {},
   "source": [
    "Además de reemplazar caracteres en una cadena."
   ]
  },
  {
   "cell_type": "code",
   "execution_count": 76,
   "metadata": {
    "collapsed": false
   },
   "outputs": [
    {
     "name": "stdout",
     "output_type": "stream",
     "text": [
      "Todos los ies son ahora as:  Supercalafragalastacexpaaladocaous\n"
     ]
    }
   ],
   "source": [
    "print \"Todos los ies son ahora as: \", my_string.replace('i', 'a')"
   ]
  },
  {
   "cell_type": "code",
   "execution_count": 77,
   "metadata": {
    "collapsed": false
   },
   "outputs": [
    {
     "name": "stdout",
     "output_type": "stream",
     "text": [
      "It's raining cats and more cats\n"
     ]
    }
   ],
   "source": [
    "# reemplaza dogs por more cats\n",
    "print \"It's raining cats and dogs\".replace('dogs', 'more cats')"
   ]
  },
  {
   "cell_type": "markdown",
   "metadata": {},
   "source": [
    "También hay algunos métodos que son únicos para las cadenas. La función superior () convertirá todos los caracteres en una cadena a mayúscula, mientras que lower () convertirá todos los caracteres en una cadena a minúscula."
   ]
  },
  {
   "cell_type": "code",
   "execution_count": 79,
   "metadata": {
    "collapsed": false
   },
   "outputs": [
    {
     "name": "stdout",
     "output_type": "stream",
     "text": [
      "NO PUEDO OíRTE\n",
      "dije hola\n"
     ]
    }
   ],
   "source": [
    "my_string = \"No puedo oírte\"\n",
    "# mayuscula\n",
    "print my_string.upper()\n",
    "my_string = \"Dije HOLA\"\n",
    "# minuscula\n",
    "print my_string.lower()"
   ]
  },
  {
   "cell_type": "markdown",
   "metadata": {},
   "source": [
    "# Formato de cadena\n",
    "\n",
    "Usando el método format () podemos agregar valores variables y generalmente formatear nuestras cadenas."
   ]
  },
  {
   "cell_type": "code",
   "execution_count": 80,
   "metadata": {
    "collapsed": false
   },
   "outputs": [
    {
     "name": "stdout",
     "output_type": "stream",
     "text": [
      "Marco Polo\n"
     ]
    }
   ],
   "source": [
    "my_string = \"{0} {1}\".format('Marco', 'Polo')\n",
    "print my_string"
   ]
  },
  {
   "cell_type": "code",
   "execution_count": 81,
   "metadata": {
    "collapsed": false
   },
   "outputs": [
    {
     "name": "stdout",
     "output_type": "stream",
     "text": [
      "Polo Marco\n"
     ]
    }
   ],
   "source": [
    "my_string = \"{1} {0}\".format('Marco', 'Polo')\n",
    "print my_string"
   ]
  },
  {
   "cell_type": "markdown",
   "metadata": {},
   "source": [
    "Usamos llaves ({}) para indicar partes de la cadena que se rellenarán más tarde y usamos los argumentos de la función format () para proporcionar los valores para sustituir. Los números dentro de las llaves indican el índice del valor en los argumentos de formato ()."
   ]
  },
  {
   "cell_type": "markdown",
   "metadata": {},
   "source": [
    "Consulte la documentación de formato () para ver ejemplos adicionales.[documentation](https://docs.python.org/2/library/string.html#format-examples)"
   ]
  },
  {
   "cell_type": "markdown",
   "metadata": {},
   "source": [
    "Si necesita algún formateo rápido y sucio, puede usar el símbolo %, llamado operador de formateo de cadenas."
   ]
  },
  {
   "cell_type": "code",
   "execution_count": 113,
   "metadata": {
    "collapsed": false
   },
   "outputs": [
    {
     "name": "stdout",
     "output_type": "stream",
     "text": [
      "inserta valor aqui el \n"
     ]
    }
   ],
   "source": [
    "# %s: es el operador de formateo de cadenas\n",
    "print 'inserta %s aqui el ' % 'valor'"
   ]
  },
  {
   "cell_type": "markdown",
   "metadata": {},
   "source": [
    "El símbolo % básicamente le indica a Python que cree un marcador de posición. Cualquier carácter que siga al % (en la cadena) indica qué orden de tipo tendrá el valor puesto en el marcador de posición. Este personaje se llama tipo de conversión. Una vez que la cadena se ha cerrado, necesitamos otro % que será seguido por los valores para insertar. En el caso de un valor, puede simplemente ponerlo allí. Si está insertando más de un valor, deben estar encerrados en una tupla."
   ]
  },
  {
   "cell_type": "code",
   "execution_count": 86,
   "metadata": {
    "collapsed": false
   },
   "outputs": [
    {
     "name": "stdout",
     "output_type": "stream",
     "text": [
      "Hay 13 gatos en mi apartamento\n"
     ]
    }
   ],
   "source": [
    "print 'Hay %s gatos en mi %s' % (13, 'apartamento')"
   ]
  },
  {
   "cell_type": "markdown",
   "metadata": {},
   "source": [
    "En estos ejemplos, el% s indica que Python debe convertir los valores en cadenas. Existen varios tipos de conversión que puede usar para obtener más información con el formato. Consulte la documentación de formato de cadenas para obtener ejemplos adicionales y más detalles completos sobre el uso. [documentation](https://docs.python.org/2/library/stdtypes.html#string-formatting)"
   ]
  },
  {
   "cell_type": "markdown",
   "metadata": {},
   "source": [
    "# Operadores logicos\n",
    "\n",
    "## Lógica básica\n",
    "\n",
    "Los operadores lógicos se ocupan de los valores booleanos, como cubrimos brevemente antes. Si recuerda, un bool toma uno de dos valores, verdadero o falso (o 1 o 0). Las declaraciones lógicas básicas que podemos hacer se definen utilizando los comparadores incorporados. Estos son == (igual), ! = (No igual), <(menor que), > (mayor que),  <= (menor o igual que), y> = (mayor o igual que)."
   ]
  },
  {
   "cell_type": "code",
   "execution_count": 87,
   "metadata": {
    "collapsed": false
   },
   "outputs": [
    {
     "name": "stdout",
     "output_type": "stream",
     "text": [
      "True\n"
     ]
    }
   ],
   "source": [
    "print 5 == 5"
   ]
  },
  {
   "cell_type": "code",
   "execution_count": 88,
   "metadata": {
    "collapsed": false
   },
   "outputs": [
    {
     "name": "stdout",
     "output_type": "stream",
     "text": [
      "False\n"
     ]
    }
   ],
   "source": [
    "print 5 > 5"
   ]
  },
  {
   "cell_type": "markdown",
   "metadata": {},
   "source": [
    "Estos comparadores también funcionan en conjunto con variables."
   ]
  },
  {
   "cell_type": "code",
   "execution_count": 89,
   "metadata": {
    "collapsed": false
   },
   "outputs": [
    {
     "name": "stdout",
     "output_type": "stream",
     "text": [
      "True\n"
     ]
    }
   ],
   "source": [
    "m = 2\n",
    "n = 23\n",
    "print m < n"
   ]
  },
  {
   "cell_type": "markdown",
   "metadata": {},
   "source": [
    "Podemos unir estos comparadores para hacer declaraciones lógicas más complejas usando los operadores lógicos or, and, y not."
   ]
  },
  {
   "cell_type": "code",
   "execution_count": 90,
   "metadata": {
    "collapsed": false
   },
   "outputs": [
    {
     "name": "stdout",
     "output_type": "stream",
     "text": [
      "Statement 1 truth value: True\n",
      "Statement 2 truth value: True\n",
      "Statement 1 and Statement 2: True\n"
     ]
    }
   ],
   "source": [
    "statement_1 = 10 > 2\n",
    "statement_2 = 4 <= 6\n",
    "print \"Statement 1 truth value: {0}\".format(statement_1)\n",
    "print \"Statement 2 truth value: {0}\".format(statement_2)\n",
    "print \"Statement 1 and Statement 2: {0}\".format(statement_1 and statement_2)"
   ]
  },
  {
   "cell_type": "markdown",
   "metadata": {},
   "source": [
    "El operador o realiza una lógica o cálculo. Este es un componente inclusivo o, por lo tanto, si alguno de los componentes está emparejado por o es Verdadero, toda la afirmación será Verdadera. La instrucción y solo muestra True si todos los componentes que están juntos son True. De lo contrario, generará False. La declaración no simplemente invierte el valor de verdad de cualquier declaración que lo sigue. Por lo tanto, una declaración True se evaluará como False cuando no se coloque un not delante de ella. Del mismo modo, una instrucción False se convertirá en True cuando a no esté delante de ella.\n",
    "\n",
    "Diga que tenemos dos declaraciones lógicas, o aserciones, PP y QQ. La tabla de verdad para los operadores lógicos básicos es la siguiente:\n",
    "\n",
    "|  P  |  Q  | `not` P| P `and` Q | P `or` Q|\n",
    "|:-----:|:-----:|:---:|:---:|:---:|\n",
    "| `True` | `True` | `False` | `True` | `True` |\n",
    "| `False` | `True` | `True` | `False` | `True` |\n",
    "| `True` | `False` | `False` | `False` | `True` |\n",
    "| `False` | `False` | `True` | `False` | `False` |\n",
    "\n",
    "Podemos unir múltiples declaraciones lógicas usando los operadores lógicos."
   ]
  },
  {
   "cell_type": "code",
   "execution_count": 91,
   "metadata": {
    "collapsed": false
   },
   "outputs": [
    {
     "name": "stdout",
     "output_type": "stream",
     "text": [
      "True\n"
     ]
    }
   ],
   "source": [
    "print ((2 < 3) and (3 > 0)) or ((5 > 6) and not (4 < 2))"
   ]
  },
  {
   "cell_type": "markdown",
   "metadata": {},
   "source": [
    "Las declaraciones lógicas pueden ser tan simples o complejas como nos plazca, según lo que necesitemos expresar. Evaluando paso a paso la declaración lógica anterior, vemos que estamos evaluando (Verdadero y Verdadero) o (Falso y no falso). Esto se convierte en Verdadero o (Falso y Verdadero), y posteriormente se convierte en Verdadero o Falso, finalmente se evalúa como Verdadero."
   ]
  },
  {
   "cell_type": "markdown",
   "metadata": {},
   "source": [
    "# True\n",
    "\n",
    "Los tipos de datos en Python tienen una característica divertida llamada verdad. Lo que esto significa es que la mayoría de los tipos incorporados se evaluarán como True o False cuando se necesite un valor booleano (como con un enunciado if). Como regla general, contenedores como cadenas, tuplas, diccionarios, listas y conjuntos, devolverán True si contienen algo y False si no contienen nada."
   ]
  },
  {
   "cell_type": "code",
   "execution_count": 92,
   "metadata": {
    "collapsed": false
   },
   "outputs": [
    {
     "name": "stdout",
     "output_type": "stream",
     "text": [
      "False\n"
     ]
    }
   ],
   "source": [
    "# Similar a cómo funcionan float () e int (), bool () fuerza a un valor a ser considerado booleano.\n",
    "print bool('')"
   ]
  },
  {
   "cell_type": "code",
   "execution_count": 93,
   "metadata": {
    "collapsed": false
   },
   "outputs": [
    {
     "name": "stdout",
     "output_type": "stream",
     "text": [
      "True\n"
     ]
    }
   ],
   "source": [
    "print bool('I have character!')"
   ]
  },
  {
   "cell_type": "code",
   "execution_count": 94,
   "metadata": {
    "collapsed": false
   },
   "outputs": [
    {
     "name": "stdout",
     "output_type": "stream",
     "text": [
      "False\n"
     ]
    }
   ],
   "source": [
    "print bool([])"
   ]
  },
  {
   "cell_type": "code",
   "execution_count": 95,
   "metadata": {
    "collapsed": false
   },
   "outputs": [
    {
     "name": "stdout",
     "output_type": "stream",
     "text": [
      "True\n"
     ]
    }
   ],
   "source": [
    "print bool([1, 2, 3])"
   ]
  },
  {
   "cell_type": "markdown",
   "metadata": {},
   "source": [
    "Y así sucesivamente, para las otras colecciones y contenedores. Ninguno también se evalúa como Falso. El número 1 es equivalente a True y el número 0 es equivalente a False también, en un contexto booleano."
   ]
  },
  {
   "cell_type": "markdown",
   "metadata": {},
   "source": [
    "# Declaraciones If\n",
    "\n",
    "Podemos crear segmentos de código que solo se ejecutan si se cumple un conjunto de condiciones. Usamos sentencias if junto con enunciados lógicos para crear ramas en nuestro código.\n",
    "\n",
    "Un bloque if se ingresa cuando la condición se considera verdadera. Si la condición se evalúa como False, el bloque if simplemente se saltará a menos que haya un bloque else para acompañarlo. Las condiciones se realizan utilizando operadores lógicos o utilizando la veracidad de los valores en Python. Una sentencia if se define con dos puntos y un bloque de texto sangrado."
   ]
  },
  {
   "cell_type": "code",
   "execution_count": 97,
   "metadata": {
    "collapsed": false
   },
   "outputs": [
    {
     "name": "stdout",
     "output_type": "stream",
     "text": [
      "True\n"
     ]
    }
   ],
   "source": [
    "# Este es el formato básico de una instrucción if. Este es un ejemplo vacuo.\n",
    "# La cadena \"Condición\" siempre se evaluará como Verdadera porque es una\n",
    "# cadena no vacía. El propósito de este código es mostrar el formato de\n",
    "# una instrucción if.\n",
    "if \"Condicion\": \n",
    "    # Este bloque de código se ejecutará porque la cadena no está vacía\n",
    "    # Todo en estas líneas sangradas\n",
    "    print True\n",
    "else:\n",
    "    # Entonces, si la condición con la que examinamos es, de hecho, Falsa\n",
    "    # Este bloque de código se ejecutará EN LUGAR del primer bloque de código\n",
    "    # Todo en estas líneas sangradas\n",
    "    print False\n",
    "# El bloque else aquí nunca se ejecutará porque \"Condición\" es una cadena no vacía."
   ]
  },
  {
   "cell_type": "code",
   "execution_count": 99,
   "metadata": {
    "collapsed": false
   },
   "outputs": [],
   "source": [
    "# no imprime nada pues i es desigual a 5\n",
    "i = 4\n",
    "if i == 5:\n",
    "    print 'La variable i tiene un valor de 5'"
   ]
  },
  {
   "cell_type": "markdown",
   "metadata": {},
   "source": [
    "Como en este ejemplo i = 4 y la instrucción if solo busca si i es igual a 5, la instrucción de impresión nunca se ejecutará. Podemos agregar una instrucción else para crear un bloque de contingencia de código en caso de que la condición en la declaración if no se evalúe como True."
   ]
  },
  {
   "cell_type": "code",
   "execution_count": 100,
   "metadata": {
    "collapsed": false
   },
   "outputs": [
    {
     "name": "stdout",
     "output_type": "stream",
     "text": [
      "Todas las líneas en este bloque sangrado son parte de este bloque\n",
      "La variable i no es igual a 5\n"
     ]
    }
   ],
   "source": [
    "i = 4\n",
    "if i == 5:\n",
    "    print \"Todas las líneas en este bloque sangrado son parte de este bloque\"\n",
    "    print 'La variable i tiene un valor de 5'\n",
    "else:\n",
    "    print \"Todas las líneas en este bloque sangrado son parte de este bloque\"\n",
    "    print 'La variable i no es igual a 5'"
   ]
  },
  {
   "cell_type": "markdown",
   "metadata": {},
   "source": [
    "Podemos implementar otras ramas fuera de la misma instrucción if usando elif, una abreviación de \"else if\". Podemos incluir tantos elifs como queramos hasta que hayamos agotado todas las ramas lógicas de una condición."
   ]
  },
  {
   "cell_type": "code",
   "execution_count": 101,
   "metadata": {
    "collapsed": false
   },
   "outputs": [
    {
     "name": "stdout",
     "output_type": "stream",
     "text": [
      "La variable i tiene un valor de 1\n"
     ]
    }
   ],
   "source": [
    "i = 1\n",
    "if i == 1:\n",
    "    print 'La variable i tiene un valor de 1'\n",
    "elif i == 2:\n",
    "    print 'La variable i tiene un valor de 2'\n",
    "elif i == 3:\n",
    "    print 'La variable i tiene un valor de 3'\n",
    "else:\n",
    "    print \"No me importa lo que soy\""
   ]
  },
  {
   "cell_type": "markdown",
   "metadata": {},
   "source": [
    "También puede anotar if-statements dentro de if-statements para verificar otras condiciones."
   ]
  },
  {
   "cell_type": "code",
   "execution_count": 103,
   "metadata": {
    "collapsed": false
   },
   "outputs": [
    {
     "name": "stdout",
     "output_type": "stream",
     "text": [
      "i es divisible por ambos, 2 y 5! ¡Guau!\n"
     ]
    }
   ],
   "source": [
    "i = 10\n",
    "if i % 2 == 0:\n",
    "    if i % 3 == 0:\n",
    "        print 'i es divisible por ambos, 2 y 3! ¡Guau!'\n",
    "    elif i % 5 == 0:\n",
    "        print 'i es divisible por ambos, 2 y 5! ¡Guau!'\n",
    "    else:\n",
    "        print 'i es divisible por 2, pero no 3 o 5. Meh.'\n",
    "else:\n",
    "    print 'Supongo que soy un número impar. Aburrido.'"
   ]
  },
  {
   "cell_type": "markdown",
   "metadata": {},
   "source": [
    "¡Recuerde que podemos agrupar múltiples condiciones juntas utilizando los operadores lógicos!"
   ]
  },
  {
   "cell_type": "code",
   "execution_count": 104,
   "metadata": {
    "collapsed": false
   },
   "outputs": [
    {
     "name": "stdout",
     "output_type": "stream",
     "text": [
      "5 es menor que 10 y 12 es mayor que 11! ¡Qué novedoso e interesante!\n"
     ]
    }
   ],
   "source": [
    "i = 5\n",
    "j = 12\n",
    "if i < 10 and j > 11:\n",
    "    print '{0} es menor que 10 y {1} es mayor que 11! ¡Qué novedoso e interesante!'.format(i, j)"
   ]
  },
  {
   "cell_type": "markdown",
   "metadata": {},
   "source": [
    "¡Puedes usar los comparadores lógicos para comparar cadenas!"
   ]
  },
  {
   "cell_type": "code",
   "execution_count": 105,
   "metadata": {
    "collapsed": false
   },
   "outputs": [
    {
     "name": "stdout",
     "output_type": "stream",
     "text": [
      "And so it was! For the glory of Rome!\n"
     ]
    }
   ],
   "source": [
    "my_string = \"Carthago delenda est\"\n",
    "if my_string == \"Carthago delenda est\":\n",
    "    print 'And so it was! For the glory of Rome!'\n",
    "else:\n",
    "    print 'War elephants are TERRIFYING. I am staying home.'"
   ]
  },
  {
   "cell_type": "markdown",
   "metadata": {},
   "source": [
    "Al igual que con otros tipos de datos, == verificará si las dos cosas en cada lado tienen el mismo valor. En este caso, comparamos si el valor de las cadenas es el mismo. Sin embargo, el uso de> o <o cualquiera de los otros comparadores no es tan intuitivo, por lo que no utilizaremos comparadores con cadenas en esta conferencia. Los comparadores examinarán el orden lexicográfico de las cadenas, que podría ser un poco más profundo del que le gustaría. [lexicographical order](https://en.wikipedia.org/wiki/Lexicographical_order)"
   ]
  },
  {
   "cell_type": "markdown",
   "metadata": {},
   "source": [
    "Algunas funciones integradas devuelven un valor booleano, por lo que se pueden usar como condiciones en una sentencia if. Las funciones definidas por el usuario también se pueden construir para que devuelvan un valor booleano. ¡Esto se tratará más adelante con la definición de la función!\n",
    "\n",
    "La palabra clave in se usa generalmente para verificar la pertenencia a un valor dentro de otro valor. Podemos verificar la membresía en el contexto de una declaración if y usarla para generar un valor de verdad."
   ]
  },
  {
   "cell_type": "code",
   "execution_count": 106,
   "metadata": {
    "collapsed": false
   },
   "outputs": [
    {
     "name": "stdout",
     "output_type": "stream",
     "text": [
      "Those are my favorite vowels!\n"
     ]
    }
   ],
   "source": [
    "if 'a' in my_string or 'e' in my_string:\n",
    "    print 'Those are my favorite vowels!'"
   ]
  },
  {
   "cell_type": "markdown",
   "metadata": {},
   "source": [
    "Aquí usamos in para verificar si la variable my_string contiene alguna letra en particular. ¡Más tarde lo usaremos para iterar a través de listas!"
   ]
  },
  {
   "cell_type": "markdown",
   "metadata": {},
   "source": [
    "# Estructuras de bucle\n",
    "\n",
    "Las estructuras de bucle son una de las partes más importantes de la programación. El bucle for y el bucle while proporcionan una forma de ejecutar repetidamente un bloque de código repetidamente. Un ciclo while se repetirá hasta que se haya cumplido una determinada condición. Si en algún momento después de una iteración esa condición ya no se cumple, el ciclo termina. Un bucle for iterará sobre una secuencia de valores y terminará cuando la secuencia haya finalizado. En su lugar, puede incluir condiciones dentro del ciclo for para decidir si debe finalizar antes o simplemente dejar que siga su curso."
   ]
  },
  {
   "cell_type": "code",
   "execution_count": 108,
   "metadata": {
    "collapsed": false
   },
   "outputs": [
    {
     "name": "stdout",
     "output_type": "stream",
     "text": [
      "Soy un bucle! 4 vamos!\n",
      "Soy un bucle! 3 vamos!\n",
      "Soy un bucle! 2 vamos!\n",
      "Soy un bucle! 1 vamos!\n",
      "Soy un bucle! 0 vamos!\n"
     ]
    }
   ],
   "source": [
    "i = 5\n",
    "while i > 0: # Podemos escribir esto como 'while i:' porque 0 es False!\n",
    "    i -= 1\n",
    "    print 'Soy un bucle! {0} vamos!'.format(i)"
   ]
  },
  {
   "cell_type": "markdown",
   "metadata": {},
   "source": [
    "Con while bucles debemos asegurarnos de que algo realmente cambie de iteración a iteración para que el bucle realmente termine. En este caso, usamos la abreviatura i - = 1 (abreviatura de i = i - 1) para que el valor de i se haga más pequeño con cada iteración. Eventualmente, me reduciré a 0, haciendo que la condición sea False y salga del ciclo."
   ]
  },
  {
   "cell_type": "markdown",
   "metadata": {},
   "source": [
    "Un bucle for itera un número de veces determinado, determinado cuando usted declara la entrada en el bucle. En este caso, estamos iterando sobre la lista devuelta desde range (). El ciclo for selecciona un valor de la lista, en orden, y le asigna temporalmente el valor de i para que las operaciones se puedan realizar con el valor."
   ]
  },
  {
   "cell_type": "code",
   "execution_count": 110,
   "metadata": {
    "collapsed": false
   },
   "outputs": [
    {
     "name": "stdout",
     "output_type": "stream",
     "text": [
      "Soy un bucle! Yo tengo bucles de 1 tiempos!\n",
      "Soy un bucle! Yo tengo bucles de 2 tiempos!\n",
      "Soy un bucle! Yo tengo bucles de 3 tiempos!\n",
      "Soy un bucle! Yo tengo bucles de 4 tiempos!\n",
      "Soy un bucle! Yo tengo bucles de 5 tiempos!\n"
     ]
    }
   ],
   "source": [
    "for i in range(5):\n",
    "    print 'Soy un bucle! Yo tengo bucles de {0} tiempos!'.format(i + 1)"
   ]
  },
  {
   "cell_type": "markdown",
   "metadata": {},
   "source": [
    "Tenga en cuenta que en este ciclo for utilizamos la palabra clave in. El uso de la palabra clave in no se limita a verificar la membresía como en el ejemplo de declaración if. Puede iterar sobre cualquier colección con un ciclo for usando la palabra clave in.\n",
    "\n",
    "En este próximo ejemplo, repetiremos sobre un conjunto porque queremos verificar la contención y agregarlo a un nuevo conjunto."
   ]
  },
  {
   "cell_type": "code",
   "execution_count": 112,
   "metadata": {
    "collapsed": false
   },
   "outputs": [
    {
     "name": "stdout",
     "output_type": "stream",
     "text": [
      "set(['cows', 'bats', 'cats', 'humans', 'dogs'])\n"
     ]
    }
   ],
   "source": [
    "my_list = {'cats', 'dogs', 'lizards', 'cows', 'bats', 'sponges', 'humans'} # Lista de todos los animales del mundo\n",
    "mammal_list = {'cats', 'dogs', 'cows', 'bats', 'humans'} # Lista de todos los mamíferos en el mundo\n",
    "my_new_list = set()\n",
    "for animal in my_list:\n",
    "    if animal in mammal_list:\n",
    "        # Esto agrega cualquier animal que esté en my_list y mammal_list a my_new_list\n",
    "        my_new_list.add(animal)\n",
    "        \n",
    "print my_new_list"
   ]
  },
  {
   "cell_type": "markdown",
   "metadata": {},
   "source": [
    "Hay dos declaraciones que son muy útiles para tratar con los bucles for y while. Estos son descanso y continúan. Si se produce un corte en cualquier punto mientras se está ejecutando un ciclo, el ciclo terminará inmediatamente."
   ]
  },
  {
   "cell_type": "code",
   "execution_count": 114,
   "metadata": {
    "collapsed": false
   },
   "outputs": [
    {
     "name": "stdout",
     "output_type": "stream",
     "text": [
      "11\n",
      "12\n",
      "13\n",
      "14\n"
     ]
    }
   ],
   "source": [
    "i = 10\n",
    "while True:\n",
    "    if i == 14:\n",
    "        break\n",
    "    i += 1 # Esto es una abreviatura de i = i + 1. Incrementa i con cada iteración.\n",
    "    print i"
   ]
  },
  {
   "cell_type": "code",
   "execution_count": 115,
   "metadata": {
    "collapsed": false
   },
   "outputs": [
    {
     "name": "stdout",
     "output_type": "stream",
     "text": [
      "0\n",
      "1\n"
     ]
    }
   ],
   "source": [
    "for i in range(5):\n",
    "    if i == 2:\n",
    "        break\n",
    "    print i"
   ]
  },
  {
   "cell_type": "markdown",
   "metadata": {},
   "source": [
    "La instrucción continue le dirá al ciclo que finalice de inmediato esta iteración y continúe con la siguiente iteración del ciclo."
   ]
  },
  {
   "cell_type": "code",
   "execution_count": 116,
   "metadata": {
    "collapsed": false
   },
   "outputs": [
    {
     "name": "stdout",
     "output_type": "stream",
     "text": [
      "1\n",
      "2\n",
      "4\n",
      "5\n"
     ]
    }
   ],
   "source": [
    "i = 0\n",
    "while i < 5:\n",
    "    i += 1\n",
    "    if i == 3:\n",
    "        continue\n",
    "    print i"
   ]
  },
  {
   "cell_type": "markdown",
   "metadata": {},
   "source": [
    "Este ciclo omite la impresión del número 33 debido a la instrucción continue que se ejecuta cuando ingresamos el enunciado if. El código nunca ve el comando para imprimir el número 33 porque ya se movió a la siguiente iteración. Las sentencias break y continue son otras herramientas para ayudarlo a controlar el flujo de sus bucles y, como resultado, su código."
   ]
  },
  {
   "cell_type": "markdown",
   "metadata": {},
   "source": [
    "La variable que usamos para iterar sobre un bucle retendrá su valor cuando el bucle salga. De manera similar, cualquier variable definida dentro del contexto del ciclo continuará existiendo fuera de él."
   ]
  },
  {
   "cell_type": "code",
   "execution_count": 117,
   "metadata": {
    "collapsed": false
   },
   "outputs": [
    {
     "name": "stdout",
     "output_type": "stream",
     "text": [
      "Soy eterno! Soy 0 y existo en todas partes!\n",
      "Soy eterno! Soy 1 y existo en todas partes!\n",
      "Soy eterno! Soy 2 y existo en todas partes!\n",
      "Soy eterno! Soy 3 y existo en todas partes!\n",
      "Soy eterno! Soy 4 y existo en todas partes!\n",
      "¡Persisto! Mi valor es 4\n",
      "Trasciende el ciclo!\n"
     ]
    }
   ],
   "source": [
    "for i in range(5):\n",
    "    loop_string = 'Trasciende el ciclo!'\n",
    "    print 'Soy eterno! Soy {0} y existo en todas partes!'.format(i)\n",
    "\n",
    "print '¡Persisto! Mi valor es {0}'.format(i)\n",
    "print loop_string"
   ]
  },
  {
   "cell_type": "markdown",
   "metadata": {},
   "source": [
    "¡También podemos iterar sobre un diccionario!"
   ]
  },
  {
   "cell_type": "code",
   "execution_count": 120,
   "metadata": {
    "collapsed": false
   },
   "outputs": [
    {
     "name": "stdout",
     "output_type": "stream",
     "text": [
      "{'lastname': 'Montoya', 'nemesis': 'Rugen', 'firstname': 'Inigo'}\n"
     ]
    }
   ],
   "source": [
    "my_dict = {'firstname' : 'Inigo', 'lastname' : 'Montoya', 'nemesis' : 'Rugen'}\n",
    "print my_dict"
   ]
  },
  {
   "cell_type": "code",
   "execution_count": 119,
   "metadata": {
    "collapsed": false
   },
   "outputs": [
    {
     "name": "stdout",
     "output_type": "stream",
     "text": [
      "lastname\n",
      "nemesis\n",
      "firstname\n"
     ]
    }
   ],
   "source": [
    "for key in my_dict:\n",
    "    print key"
   ]
  },
  {
   "cell_type": "markdown",
   "metadata": {},
   "source": [
    "Si solo iteramos sobre un diccionario sin hacer nada más, solo obtendremos las claves. Podemos usar las teclas para obtener los valores, así:"
   ]
  },
  {
   "cell_type": "code",
   "execution_count": 121,
   "metadata": {
    "collapsed": false
   },
   "outputs": [
    {
     "name": "stdout",
     "output_type": "stream",
     "text": [
      "Montoya\n",
      "Rugen\n",
      "Inigo\n"
     ]
    }
   ],
   "source": [
    "for key in my_dict:\n",
    "    print my_dict[key]"
   ]
  },
  {
   "cell_type": "markdown",
   "metadata": {},
   "source": [
    "O podemos usar la función iteritems () para obtener la clave y el valor al mismo tiempo."
   ]
  },
  {
   "cell_type": "code",
   "execution_count": 122,
   "metadata": {
    "collapsed": false
   },
   "outputs": [
    {
     "name": "stdout",
     "output_type": "stream",
     "text": [
      "lastname : Montoya\n",
      "nemesis : Rugen\n",
      "firstname : Inigo\n"
     ]
    }
   ],
   "source": [
    "for key, value in my_dict.iteritems():\n",
    "    print key, ':', value"
   ]
  },
  {
   "cell_type": "markdown",
   "metadata": {},
   "source": [
    "La función iteritems () crea una tupla de cada par clave-valor y el bucle for almacena desempaqueta esa tupla en clave, ¡valor en cada ejecución por separado del bucle!"
   ]
  },
  {
   "cell_type": "markdown",
   "metadata": {},
   "source": [
    "# Funciones\n",
    "\n",
    "Una función es un bloque de código reutilizable al que puede llamar repetidamente para realizar cálculos, datos de salida o hacer realmente cualquier cosa que desee. Este es uno de los aspectos clave del uso de un lenguaje de programación. Para agregar a las funciones integradas en Python, ¡puede definir el suyo propio!"
   ]
  },
  {
   "cell_type": "code",
   "execution_count": 123,
   "metadata": {
    "collapsed": false
   },
   "outputs": [
    {
     "name": "stdout",
     "output_type": "stream",
     "text": [
      "Hello, world!\n"
     ]
    }
   ],
   "source": [
    "def hello_world():\n",
    "    \"\"\" Prints Hello, world! \"\"\"\n",
    "    print 'Hello, world!'\n",
    "\n",
    "hello_world()"
   ]
  },
  {
   "cell_type": "code",
   "execution_count": 124,
   "metadata": {
    "collapsed": false
   },
   "outputs": [
    {
     "name": "stdout",
     "output_type": "stream",
     "text": [
      "Hello, world!\n",
      "Hello, world!\n",
      "Hello, world!\n",
      "Hello, world!\n",
      "Hello, world!\n"
     ]
    }
   ],
   "source": [
    "for i in range(5):\n",
    "    hello_world()"
   ]
  },
  {
   "cell_type": "markdown",
   "metadata": {},
   "source": [
    "Las funciones se definen con def, un nombre de función, una lista de parámetros y dos puntos. Todo sangrado debajo del colon se incluirá en la definición de la función.\n",
    "\n",
    "Podemos hacer que nuestras funciones hagan cualquier cosa que pueda hacer con un bloque de código normal. Por ejemplo, nuestra función hello_world () imprime una cadena cada vez que se llama. Si queremos mantener un valor que calcula una función, podemos definir la función para que devuelva el valor que queremos. Esta es una característica muy importante de las funciones, ya que cualquier variable definida exclusivamente dentro de una función no existirá fuera de ella."
   ]
  },
  {
   "cell_type": "code",
   "execution_count": 126,
   "metadata": {
    "collapsed": false
   },
   "outputs": [
    {
     "ename": "NameError",
     "evalue": "name 'in_function_string' is not defined",
     "output_type": "error",
     "traceback": [
      "\u001b[0;31m\u001b[0m",
      "\u001b[0;31mNameError\u001b[0mTraceback (most recent call last)",
      "\u001b[0;32m<ipython-input-126-7336d14e4851>\u001b[0m in \u001b[0;36m<module>\u001b[0;34m()\u001b[0m\n\u001b[1;32m      4\u001b[0m \u001b[0;34m\u001b[0m\u001b[0m\n\u001b[1;32m      5\u001b[0m \u001b[0msee_the_scope\u001b[0m\u001b[0;34m(\u001b[0m\u001b[0;34m)\u001b[0m\u001b[0;34m\u001b[0m\u001b[0m\n\u001b[0;32m----> 6\u001b[0;31m \u001b[0;32mprint\u001b[0m \u001b[0min_function_string\u001b[0m\u001b[0;34m\u001b[0m\u001b[0m\n\u001b[0m",
      "\u001b[0;31mNameError\u001b[0m: name 'in_function_string' is not defined"
     ]
    }
   ],
   "source": [
    "# Error: se crea la variable dentro de la funcion y la desconoce fuera de ella\n",
    "def see_the_scope():\n",
    "    in_function_string = \"I'm stuck in here!\"\n",
    "\n",
    "see_the_scope()\n",
    "print in_function_string"
   ]
  },
  {
   "cell_type": "markdown",
   "metadata": {},
   "source": [
    "El alcance de una variable es la parte de un bloque de código donde esa variable está vinculada a un valor particular. Las funciones en Python tienen un alcance cerrado, por lo que las variables definidas dentro de ellas solo se pueden acceder directamente dentro de ellos. Si pasamos esos valores a una declaración de devolución, podemos sacarlos de la función. Esto hace que la llamada a función devuelva valores para que pueda almacenarlos en variables que tienen un alcance mayor.\n",
    "\n",
    "En este caso específicamente, incluir una declaración de devolución nos permite mantener el valor de cadena que definimos en la función."
   ]
  },
  {
   "cell_type": "code",
   "execution_count": 127,
   "metadata": {
    "collapsed": false
   },
   "outputs": [
    {
     "name": "stdout",
     "output_type": "stream",
     "text": [
      "Anything you can do I can do better!\n"
     ]
    }
   ],
   "source": [
    "def free_the_scope():\n",
    "    in_function_string = \"Anything you can do I can do better!\"\n",
    "    return in_function_string\n",
    "my_string = free_the_scope()\n",
    "print my_string"
   ]
  },
  {
   "cell_type": "markdown",
   "metadata": {},
   "source": [
    "Así como podemos obtener valores de una función, también podemos poner valores en una función. Hacemos esto definiendo nuestra función con parámetros."
   ]
  },
  {
   "cell_type": "code",
   "execution_count": 128,
   "metadata": {
    "collapsed": false
   },
   "outputs": [
    {
     "name": "stdout",
     "output_type": "stream",
     "text": [
      "4\n",
      "20\n"
     ]
    }
   ],
   "source": [
    "def multiply_by_five(x):\n",
    "    \"\"\" Multiplica un número de entrada por 5 \"\"\"\n",
    "    return x * 5\n",
    "\n",
    "n = 4\n",
    "print n\n",
    "print multiply_by_five(n)"
   ]
  },
  {
   "cell_type": "markdown",
   "metadata": {},
   "source": [
    "En este ejemplo, solo teníamos un parámetro para nuestra función, x. Podemos agregar fácilmente más parámetros, separando todo con una coma."
   ]
  },
  {
   "cell_type": "code",
   "execution_count": 130,
   "metadata": {
    "collapsed": true
   },
   "outputs": [],
   "source": [
    "def calculate_area(length, width):\n",
    "    \"\"\" Calcula el área de un rectángulo \"\"\"\n",
    "    return length * width"
   ]
  },
  {
   "cell_type": "code",
   "execution_count": 131,
   "metadata": {
    "collapsed": false
   },
   "outputs": [
    {
     "name": "stdout",
     "output_type": "stream",
     "text": [
      "Area:  50\n",
      "Length:  5\n",
      "Width:  10\n"
     ]
    }
   ],
   "source": [
    "l = 5\n",
    "w = 10\n",
    "print 'Area: ', calculate_area(l, w)\n",
    "print 'Length: ', l\n",
    "print 'Width: ', w"
   ]
  },
  {
   "cell_type": "code",
   "execution_count": 132,
   "metadata": {
    "collapsed": true
   },
   "outputs": [],
   "source": [
    "def calculate_volume(length, width, depth):\n",
    "    \"\"\" Calcula el volumen de un prisma rectangular \"\"\"\n",
    "    return length * width * depth"
   ]
  },
  {
   "cell_type": "markdown",
   "metadata": {},
   "source": [
    "Si queremos, podemos definir una función para que tome un número arbitrario de parámetros. Le decimos a Python que queremos esto usando un asterisco (*)."
   ]
  },
  {
   "cell_type": "code",
   "execution_count": 135,
   "metadata": {
    "collapsed": true
   },
   "outputs": [],
   "source": [
    "# *args: numero ilimitado de parametros\n",
    "def sum_values(*args):\n",
    "    sum_val = 0\n",
    "    for i in args:\n",
    "        sum_val += i\n",
    "    return sum_val"
   ]
  },
  {
   "cell_type": "code",
   "execution_count": 136,
   "metadata": {
    "collapsed": false
   },
   "outputs": [
    {
     "name": "stdout",
     "output_type": "stream",
     "text": [
      "6\n",
      "150\n",
      "343\n"
     ]
    }
   ],
   "source": [
    "print sum_values(1, 2, 3)\n",
    "print sum_values(10, 20, 30, 40, 50)\n",
    "print sum_values(4, 2, 5, 1, 10, 249, 25, 24, 13, 6, 4)"
   ]
  },
  {
   "cell_type": "markdown",
   "metadata": {},
   "source": [
    "El tiempo para usar * args como parámetro para su función es cuando no sabe cuántos valores se le pueden pasar, como en el caso de nuestra función suma. El asterisco en este caso es la sintaxis que le dice a Python que va a pasar un número arbitrario de parámetros a su función. Estos parámetros se almacenan en forma de una tupla."
   ]
  },
  {
   "cell_type": "code",
   "execution_count": 139,
   "metadata": {
    "collapsed": false
   },
   "outputs": [
    {
     "name": "stdout",
     "output_type": "stream",
     "text": [
      "<type 'tuple'>\n"
     ]
    }
   ],
   "source": [
    "def test_args(*args):\n",
    "    print type(args)\n",
    "\n",
    "test_args(1, 2, 3, 4, 5, 6)"
   ]
  },
  {
   "cell_type": "markdown",
   "metadata": {},
   "source": [
    "Podemos poner tantos elementos en la tupla args como queramos cuando llamemos a la función. Sin embargo, como args es una tupla, no podemos modificarla después de haberla creado.\n",
    "\n",
    "El nombre args de la variable es puramente por convención. Podrías nombrar fácilmente tus parámetros * vars o * cosas. Puede tratar la tupla de args como lo haría con cualquier otra tupla, accediendo fácilmente a los valores de arg e iterando sobre ella, como en la función sum_values (* args) anterior."
   ]
  },
  {
   "cell_type": "markdown",
   "metadata": {},
   "source": [
    "Nuestras funciones pueden devolver cualquier tipo de datos. Esto nos facilita la creación de funciones que verifican las condiciones que podríamos querer controlar.\n",
    "\n",
    "Aquí definimos una función que devuelve un valor booleano. Podemos usar esto fácilmente junto con sentencias if y otras situaciones que requieren un booleano."
   ]
  },
  {
   "cell_type": "code",
   "execution_count": 140,
   "metadata": {
    "collapsed": false
   },
   "outputs": [],
   "source": [
    "def has_a_vowel(word):\n",
    "    \"\"\" \n",
    "    Verifica si una palabra contiene una vocal\n",
    "    Si no contiene una vocal convencional,\n",
    "    comprobará la presencia de 'y' o 'w'. Hace\n",
    "    no verificar para ver si esos están en la palabra\n",
    "    en un contexto de vocal\n",
    "    \"\"\"\n",
    "    vowel_list = ['a', 'e', 'i', 'o', 'u']\n",
    "    \n",
    "    for vowel in vowel_list:\n",
    "        if vowel in word:\n",
    "            return True\n",
    "    # Si hay una vocal en la palabra, la función regresa, impidiendo cualquier cosa después de ejecutar este ciclo\n",
    "    return False"
   ]
  },
  {
   "cell_type": "code",
   "execution_count": 141,
   "metadata": {
    "collapsed": false
   },
   "outputs": [
    {
     "name": "stdout",
     "output_type": "stream",
     "text": [
      "Qué sorprendente, una palabra en inglés contiene una vocal.\n"
     ]
    }
   ],
   "source": [
    "my_word = 'catnapping'\n",
    "if has_a_vowel(my_word):\n",
    "    print 'Qué sorprendente, una palabra en inglés contiene una vocal.'\n",
    "else:\n",
    "    print 'Esto es realmente sorprendente..'"
   ]
  },
  {
   "cell_type": "code",
   "execution_count": 143,
   "metadata": {
    "collapsed": true
   },
   "outputs": [],
   "source": [
    "def point_maker(x, y):\n",
    "    \"\"\" Agrupa los valores x e y en un punto, técnicamente una tupla \"\"\"\n",
    "    return x, y"
   ]
  },
  {
   "cell_type": "markdown",
   "metadata": {},
   "source": [
    "Esta función anterior devuelve un par ordenado de los parámetros de entrada, almacenados como una tupla."
   ]
  },
  {
   "cell_type": "code",
   "execution_count": 144,
   "metadata": {
    "collapsed": false,
    "scrolled": true
   },
   "outputs": [
    {
     "name": "stdout",
     "output_type": "stream",
     "text": [
      "La pendiente entre a y b es -2\n"
     ]
    }
   ],
   "source": [
    "a = point_maker(0, 10)\n",
    "b = point_maker(5, 3)\n",
    "def calculate_slope(point_a, point_b):\n",
    "    \"\"\" Calcula la pendiente lineal entre dos puntos \"\"\"\n",
    "    return (point_b[1] - point_a[1])/(point_b[0] - point_a[0])\n",
    "print \"La pendiente entre a y b es {0}\".format(calculate_slope(a, b))"
   ]
  },
  {
   "cell_type": "markdown",
   "metadata": {},
   "source": [
    "¡Y ese calcula la pendiente entre dos puntos!"
   ]
  },
  {
   "cell_type": "code",
   "execution_count": 148,
   "metadata": {
    "collapsed": false
   },
   "outputs": [
    {
     "name": "stdout",
     "output_type": "stream",
     "text": [
      "La forma pendiente-intersección de la línea entre a y b, usando el punto a, es: y - 10 = -2(x - 0)\n"
     ]
    }
   ],
   "source": [
    "print \"La forma pendiente-intersección de la línea entre a y b, usando el punto a, es: y - {0} = {2}(x - {1})\".format(a[1], a[0], calculate_slope(a, b))"
   ]
  },
  {
   "cell_type": "markdown",
   "metadata": {},
   "source": [
    "Con la sintaxis adecuada, puede definir funciones para hacer los cálculos que desee. Esto los hace una parte indispensable de la programación en cualquier idioma."
   ]
  },
  {
   "cell_type": "markdown",
   "metadata": {},
   "source": [
    "## Next Steps\n",
    "\n",
    "This was a lot of material and there is still even more to cover! Make sure you play around with the cells in each notebook to accustom yourself to the syntax featured here and to figure out any limitations. If you want to delve even deeper into the material, the [documentation for Python](https://docs.python.org/2/) is all available online. We are in the process of developing a second part to this Python tutorial, designed to provide you with even more programming knowledge, so keep an eye on the [Quantopian Lectures Page](quantopian.com/lectures) and the [forums](quantopian.com/posts) for any new lectures."
   ]
  },
  {
   "cell_type": "markdown",
   "metadata": {},
   "source": [
    "*This presentation is for informational purposes only and does not constitute an offer to sell, a solicitation to buy, or a recommendation for any security; nor does it constitute an offer to provide investment advisory or other services by Quantopian, Inc. (\"Quantopian\"). Nothing contained herein constitutes investment advice or offers any opinion with respect to the suitability of any security, and any views expressed herein should not be taken as advice to buy, sell, or hold any security or as an endorsement of any security or company.  In preparing the information contained herein, Quantopian, Inc. has not taken into account the investment needs, objectives, and financial circumstances of any particular investor. Any views expressed and data illustrated herein were prepared based upon information, believed to be reliable, available to Quantopian, Inc. at the time of publication. Quantopian makes no guarantees as to their accuracy or completeness. All information is subject to change and may quickly become unreliable for various reasons, including changes in market conditions or economic circumstances.*"
   ]
  }
 ],
 "metadata": {
  "kernelspec": {
   "display_name": "Python 2",
   "language": "python",
   "name": "python2"
  },
  "language_info": {
   "codemirror_mode": {
    "name": "ipython",
    "version": 2
   },
   "file_extension": ".py",
   "mimetype": "text/x-python",
   "name": "python",
   "nbconvert_exporter": "python",
   "pygments_lexer": "ipython2",
   "version": "2.7.12"
  }
 },
 "nbformat": 4,
 "nbformat_minor": 0
}