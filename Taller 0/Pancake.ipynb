{
 "cells": [
  {
   "cell_type": "markdown",
   "metadata": {},
   "source": [
    "# Pancakes"
   ]
  },
  {
   "cell_type": "markdown",
   "metadata": {},
   "source": [
    "A continuación se diseña un algoritmo que describe la cantidad de volteos (flips) que en una pila de pancakes se pueden tener, con el fin de poderlos ordenar del más pequeño al más grande (menor a mayor), además de tener la secuencia de volteo donde la espatula coge una cantidad de pancakes y al final se muestra el arreglo original con el que inicia la pila de pancakes."
   ]
  },
  {
   "cell_type": "markdown",
   "metadata": {},
   "source": [
    "## Algoritmo"
   ]
  },
  {
   "cell_type": "markdown",
   "metadata": {},
   "source": [
    "Se llama la libreria a utilizar y se declaran variables."
   ]
  },
  {
   "cell_type": "code",
   "execution_count": 1,
   "metadata": {},
   "outputs": [],
   "source": [
    "import itertools\n",
    "\n",
    "# almacena los flips\n",
    "flips = []"
   ]
  },
  {
   "cell_type": "markdown",
   "metadata": {},
   "source": [
    "Luego definimos una funcion que elimina los espacios, con el fin de poderla mostrar de manera precisa."
   ]
  },
  {
   "cell_type": "code",
   "execution_count": 2,
   "metadata": {},
   "outputs": [],
   "source": [
    "# elimina los espacios\n",
    "def spaces(array):\n",
    "    string = \"\"\n",
    "    for j in range(0, len(array)):\n",
    "        string = string + str(array[j]) + \"\"\n",
    "    return string"
   ]
  },
  {
   "cell_type": "markdown",
   "metadata": {},
   "source": [
    "Después creamos la función que nos permite hacer los giros necesarios."
   ]
  },
  {
   "cell_type": "code",
   "execution_count": 3,
   "metadata": {},
   "outputs": [],
   "source": [
    "def flip(pancakes, position):\n",
    "    top_cakes = pancakes[0:position + 1]\n",
    "    top_cakes.reverse()\n",
    "    bottom_cakes = pancakes[position + 1:]\n",
    "    flips.append(len(bottom_cakes))\n",
    "    return top_cakes + bottom_cakes"
   ]
  },
  {
   "cell_type": "markdown",
   "metadata": {},
   "source": [
    "Definimos la función que me permite determinar en que momento realizar los giros bajo unas condiciones, que al final me retorna el número de pasos o flips."
   ]
  },
  {
   "cell_type": "code",
   "execution_count": 4,
   "metadata": {},
   "outputs": [],
   "source": [
    "def arrayPancake(pancakes):\n",
    "    # longitud del arreglo\n",
    "    len_pancakes = len(pancakes)\n",
    "\n",
    "    # cantidad de flips\n",
    "    count = 0\n",
    "    \n",
    "    while len_pancakes != 1:\n",
    "        # mira si el ultimo valor es el mayor\n",
    "        if (len_pancakes != (pancakes.index(len_pancakes) + 1)):\n",
    "            # mira si el mayor no esta en la posicion 0\n",
    "            if (pancakes.index(len_pancakes) != 0):\n",
    "                pos = pancakes.index(len_pancakes)\n",
    "                pancakes = flip(pancakes, pancakes.index(len_pancakes))                \n",
    "                count += 1\n",
    "\n",
    "            # el mayor esta ordenado, mira los siguientes\n",
    "            pancakes = flip(pancakes, len_pancakes - 1)\n",
    "            count += 1\n",
    "            len_pancakes -= 1\n",
    "        else:\n",
    "            len_pancakes -= 1\n",
    "\n",
    "    return count"
   ]
  },
  {
   "cell_type": "markdown",
   "metadata": {},
   "source": [
    "Finalizamos creando una función que muestre toda la información requerida en la cual construye un arreglo ordenado y lo permuta de todas las maneras posibles. Esta funcion trabaja con un arreglo definido de tamaño N (Número de pancakes).\n",
    "\n",
    "Para estas permutaciones se tienen las siguientes condiciones:\n",
    "\n",
    "* Para todos los casos se debe imprimir Pn = Número de permutaciones.\n",
    "* Si c = 1, se muestran las permutaciones que requieren Pn pasos.\n",
    "* Si c = 2, se muestran todas las permutaciones y sus flips.\n",
    "* Si c >= 3, se muestran todas las permutaciones, el total de flips y sus flips."
   ]
  },
  {
   "cell_type": "code",
   "execution_count": 6,
   "metadata": {},
   "outputs": [],
   "source": [
    "def permutations(N, c):\n",
    "    array = list(range(1, N + 1))\n",
    "    print (\"Pn = \", N)\n",
    "    for i in itertools.permutations(array, N):\n",
    "        i = list(i)\n",
    "\n",
    "        # total de flips\n",
    "        total_flips = arrayPancake(i)\n",
    "        # array original\n",
    "        array_original = spaces(i)\n",
    "        # flips\n",
    "        res_flips = spaces(flips)\n",
    "        \n",
    "        flips.clear()\n",
    "\n",
    "        if c == 1:\n",
    "            # Escribe Pn y todas las permutaciones que requieren Pn pasos\n",
    "            if total_flips == N:\n",
    "                print (array_original)\n",
    "        elif c == 2:\n",
    "            # Escribe Pn con todas las permutaciones y sus flips\n",
    "            print (array_original, res_flips)\n",
    "        elif c > 2:\n",
    "            # Escribe Pn con todas las permutaciones, total de pasos y sus flips\n",
    "            print (array_original, total_flips, res_flips)"
   ]
  },
  {
   "cell_type": "markdown",
   "metadata": {},
   "source": [
    "Declaramos valores para N, para c y creamos el arreglo que utilizamos como parametro para la función permutations."
   ]
  },
  {
   "cell_type": "markdown",
   "metadata": {},
   "source": [
    "### Iniciamos mostrando cuando N = 2 y c = 1, 2 y 3"
   ]
  },
  {
   "cell_type": "code",
   "execution_count": 23,
   "metadata": {},
   "outputs": [
    {
     "name": "stdout",
     "output_type": "stream",
     "text": [
      "Pn =  2\n"
     ]
    }
   ],
   "source": [
    "N = 2\n",
    "c = 1\n",
    "permutations(N, c)"
   ]
  },
  {
   "cell_type": "code",
   "execution_count": 24,
   "metadata": {},
   "outputs": [
    {
     "name": "stdout",
     "output_type": "stream",
     "text": [
      "Pn =  2\n",
      "12 \n",
      "21 0\n"
     ]
    }
   ],
   "source": [
    "N = 2\n",
    "c = 2\n",
    "permutations(N, c)"
   ]
  },
  {
   "cell_type": "code",
   "execution_count": 25,
   "metadata": {},
   "outputs": [
    {
     "name": "stdout",
     "output_type": "stream",
     "text": [
      "Pn =  2\n",
      "12 0 \n",
      "21 1 0\n"
     ]
    }
   ],
   "source": [
    "N = 2\n",
    "c = 3\n",
    "permutations(N, c)"
   ]
  },
  {
   "cell_type": "markdown",
   "metadata": {},
   "source": [
    "### Ahora veamos cuando N = 3 y c = 1, 2 y 3"
   ]
  },
  {
   "cell_type": "code",
   "execution_count": 19,
   "metadata": {},
   "outputs": [
    {
     "name": "stdout",
     "output_type": "stream",
     "text": [
      "Pn =  3\n",
      "132\n"
     ]
    }
   ],
   "source": [
    "N = 3\n",
    "c = 1\n",
    "permutations(N, c)"
   ]
  },
  {
   "cell_type": "code",
   "execution_count": 26,
   "metadata": {},
   "outputs": [
    {
     "name": "stdout",
     "output_type": "stream",
     "text": [
      "Pn =  3\n",
      "123 \n",
      "132 101\n",
      "213 1\n",
      "231 10\n",
      "312 01\n",
      "321 0\n"
     ]
    }
   ],
   "source": [
    "N = 3\n",
    "c = 2\n",
    "permutations(N, c)"
   ]
  },
  {
   "cell_type": "code",
   "execution_count": 27,
   "metadata": {},
   "outputs": [
    {
     "name": "stdout",
     "output_type": "stream",
     "text": [
      "Pn =  3\n",
      "123 0 \n",
      "132 3 101\n",
      "213 1 1\n",
      "231 2 10\n",
      "312 2 01\n",
      "321 1 0\n"
     ]
    }
   ],
   "source": [
    "N = 3\n",
    "c = 3\n",
    "permutations(N, c)"
   ]
  },
  {
   "cell_type": "markdown",
   "metadata": {},
   "source": [
    "### Ahora cuando N = 4 y c = 1, 2 y 3"
   ]
  },
  {
   "cell_type": "code",
   "execution_count": 28,
   "metadata": {},
   "outputs": [
    {
     "name": "stdout",
     "output_type": "stream",
     "text": [
      "Pn =  4\n",
      "1243\n",
      "1432\n",
      "2413\n",
      "3142\n",
      "4231\n"
     ]
    }
   ],
   "source": [
    "N = 4\n",
    "c = 1\n",
    "permutations(N, c)"
   ]
  },
  {
   "cell_type": "code",
   "execution_count": 29,
   "metadata": {},
   "outputs": [
    {
     "name": "stdout",
     "output_type": "stream",
     "text": [
      "Pn =  4\n",
      "1234 \n",
      "1243 1012\n",
      "1324 212\n",
      "1342 102\n",
      "1423 201\n",
      "1432 2021\n",
      "2134 2\n",
      "2143 101\n",
      "2314 21\n",
      "2341 10\n",
      "2413 2012\n",
      "2431 20212\n",
      "3124 12\n",
      "3142 1021\n",
      "3214 1\n",
      "3241 10212\n",
      "3412 202\n",
      "3421 20\n",
      "4123 01\n",
      "4132 021\n",
      "4213 012\n",
      "4231 0212\n",
      "4312 02\n",
      "4321 0\n"
     ]
    }
   ],
   "source": [
    "N = 4\n",
    "c = 2\n",
    "permutations(N, c)"
   ]
  },
  {
   "cell_type": "code",
   "execution_count": 30,
   "metadata": {},
   "outputs": [
    {
     "name": "stdout",
     "output_type": "stream",
     "text": [
      "Pn =  4\n",
      "1234 0 \n",
      "1243 4 1012\n",
      "1324 3 212\n",
      "1342 3 102\n",
      "1423 3 201\n",
      "1432 4 2021\n",
      "2134 1 2\n",
      "2143 3 101\n",
      "2314 2 21\n",
      "2341 2 10\n",
      "2413 4 2012\n",
      "2431 5 20212\n",
      "3124 2 12\n",
      "3142 4 1021\n",
      "3214 1 1\n",
      "3241 5 10212\n",
      "3412 3 202\n",
      "3421 2 20\n",
      "4123 2 01\n",
      "4132 3 021\n",
      "4213 3 012\n",
      "4231 4 0212\n",
      "4312 2 02\n",
      "4321 1 0\n"
     ]
    }
   ],
   "source": [
    "N = 4\n",
    "c = 3\n",
    "permutations(N, c)"
   ]
  },
  {
   "cell_type": "markdown",
   "metadata": {},
   "source": [
    "### Finalizamos cuando N = 5 y c = 1, 2 y 3"
   ]
  },
  {
   "cell_type": "code",
   "execution_count": 31,
   "metadata": {},
   "outputs": [
    {
     "name": "stdout",
     "output_type": "stream",
     "text": [
      "Pn =  5\n",
      "12543\n",
      "13254\n",
      "13524\n",
      "14352\n",
      "21354\n",
      "23541\n",
      "24315\n",
      "24531\n",
      "25143\n",
      "25314\n",
      "25431\n",
      "32415\n",
      "32451\n",
      "32514\n",
      "34251\n",
      "35124\n",
      "35241\n",
      "35412\n",
      "41253\n",
      "42351\n",
      "42531\n",
      "43512\n",
      "45231\n",
      "51324\n",
      "52341\n",
      "52413\n",
      "53142\n",
      "53421\n"
     ]
    }
   ],
   "source": [
    "N = 5\n",
    "c = 1\n",
    "permutations(N, c)"
   ]
  },
  {
   "cell_type": "code",
   "execution_count": 32,
   "metadata": {},
   "outputs": [
    {
     "name": "stdout",
     "output_type": "stream",
     "text": [
      "Pn =  5\n",
      "12345 \n",
      "12354 1012\n",
      "12435 2123\n",
      "12453 1023\n",
      "12534 2013\n",
      "12543 20313\n",
      "13245 323\n",
      "13254 10132\n",
      "13425 213\n",
      "13452 103\n",
      "13524 20123\n",
      "13542 203123\n",
      "14235 312\n",
      "14253 102132\n",
      "14325 3132\n",
      "14352 10212\n",
      "14523 202\n",
      "14532 2032\n",
      "15234 301\n",
      "15243 3031\n",
      "15324 301323\n",
      "15342 3031323\n",
      "15423 3021323\n",
      "15432 3021\n",
      "21345 3\n",
      "21354 10123\n",
      "21435 212\n",
      "21453 102\n",
      "21534 201\n",
      "21543 2031\n",
      "23145 32\n",
      "23154 101323\n",
      "23415 21\n",
      "23451 10\n",
      "23514 2012\n",
      "23541 20312\n",
      "24135 3123\n",
      "24153 1021323\n",
      "24315 31323\n",
      "24351 102123\n",
      "24513 2023\n",
      "24531 20323\n",
      "25134 3013\n",
      "25143 30313\n",
      "25314 30132\n",
      "25341 303132\n",
      "25413 302132\n",
      "25431 30213\n",
      "31245 23\n",
      "31254 1013\n",
      "31425 2132\n",
      "31452 1032\n",
      "31524 201323\n",
      "31542 2031323\n",
      "32145 2\n",
      "32154 101\n",
      "32415 21323\n",
      "32451 10323\n",
      "32514 20132\n",
      "32541 203132\n",
      "34125 313\n",
      "34152 1021\n",
      "34215 31\n",
      "34251 10213\n",
      "34512 203\n",
      "34521 20\n",
      "35124 30123\n",
      "35142 303123\n",
      "35214 3012\n",
      "35241 30312\n",
      "35412 30212\n",
      "35421 302123\n",
      "41235 12\n",
      "41253 10313\n",
      "41325 132\n",
      "41352 103123\n",
      "41523 2021323\n",
      "41532 2021\n",
      "42135 123\n",
      "42153 1031\n",
      "42315 1323\n",
      "42351 10312\n",
      "42513 202132\n",
      "42531 20213\n",
      "43125 13\n",
      "43152 1031323\n",
      "43215 1\n",
      "43251 103132\n",
      "43512 20212\n",
      "43521 202123\n",
      "45123 302\n",
      "45132 3032\n",
      "45213 3023\n",
      "45231 30323\n",
      "45312 303\n",
      "45321 30\n",
      "51234 01\n",
      "51243 031\n",
      "51324 01323\n",
      "51342 031323\n",
      "51423 021323\n",
      "51432 021\n",
      "52134 013\n",
      "52143 0313\n",
      "52314 0132\n",
      "52341 03132\n",
      "52413 02132\n",
      "52431 0213\n",
      "53124 0123\n",
      "53142 03123\n",
      "53214 012\n",
      "53241 0312\n",
      "53412 0212\n",
      "53421 02123\n",
      "54123 02\n",
      "54132 032\n",
      "54213 023\n",
      "54231 0323\n",
      "54312 03\n",
      "54321 0\n"
     ]
    }
   ],
   "source": [
    "N = 5\n",
    "c = 2\n",
    "permutations(N, c)"
   ]
  },
  {
   "cell_type": "code",
   "execution_count": 33,
   "metadata": {},
   "outputs": [
    {
     "name": "stdout",
     "output_type": "stream",
     "text": [
      "Pn =  5\n",
      "12345 0 \n",
      "12354 4 1012\n",
      "12435 4 2123\n",
      "12453 4 1023\n",
      "12534 4 2013\n",
      "12543 5 20313\n",
      "13245 3 323\n",
      "13254 5 10132\n",
      "13425 3 213\n",
      "13452 3 103\n",
      "13524 5 20123\n",
      "13542 6 203123\n",
      "14235 3 312\n",
      "14253 6 102132\n",
      "14325 4 3132\n",
      "14352 5 10212\n",
      "14523 3 202\n",
      "14532 4 2032\n",
      "15234 3 301\n",
      "15243 4 3031\n",
      "15324 6 301323\n",
      "15342 7 3031323\n",
      "15423 7 3021323\n",
      "15432 4 3021\n",
      "21345 1 3\n",
      "21354 5 10123\n",
      "21435 3 212\n",
      "21453 3 102\n",
      "21534 3 201\n",
      "21543 4 2031\n",
      "23145 2 32\n",
      "23154 6 101323\n",
      "23415 2 21\n",
      "23451 2 10\n",
      "23514 4 2012\n",
      "23541 5 20312\n",
      "24135 4 3123\n",
      "24153 7 1021323\n",
      "24315 5 31323\n",
      "24351 6 102123\n",
      "24513 4 2023\n",
      "24531 5 20323\n",
      "25134 4 3013\n",
      "25143 5 30313\n",
      "25314 5 30132\n",
      "25341 6 303132\n",
      "25413 6 302132\n",
      "25431 5 30213\n",
      "31245 2 23\n",
      "31254 4 1013\n",
      "31425 4 2132\n",
      "31452 4 1032\n",
      "31524 6 201323\n",
      "31542 7 2031323\n",
      "32145 1 2\n",
      "32154 3 101\n",
      "32415 5 21323\n",
      "32451 5 10323\n",
      "32514 5 20132\n",
      "32541 6 203132\n",
      "34125 3 313\n",
      "34152 4 1021\n",
      "34215 2 31\n",
      "34251 5 10213\n",
      "34512 3 203\n",
      "34521 2 20\n",
      "35124 5 30123\n",
      "35142 6 303123\n",
      "35214 4 3012\n",
      "35241 5 30312\n",
      "35412 5 30212\n",
      "35421 6 302123\n",
      "41235 2 12\n",
      "41253 5 10313\n",
      "41325 3 132\n",
      "41352 6 103123\n",
      "41523 7 2021323\n",
      "41532 4 2021\n",
      "42135 3 123\n",
      "42153 4 1031\n",
      "42315 4 1323\n",
      "42351 5 10312\n",
      "42513 6 202132\n",
      "42531 5 20213\n",
      "43125 2 13\n",
      "43152 7 1031323\n",
      "43215 1 1\n",
      "43251 6 103132\n",
      "43512 5 20212\n",
      "43521 6 202123\n",
      "45123 3 302\n",
      "45132 4 3032\n",
      "45213 4 3023\n",
      "45231 5 30323\n",
      "45312 3 303\n",
      "45321 2 30\n",
      "51234 2 01\n",
      "51243 3 031\n",
      "51324 5 01323\n",
      "51342 6 031323\n",
      "51423 6 021323\n",
      "51432 3 021\n",
      "52134 3 013\n",
      "52143 4 0313\n",
      "52314 4 0132\n",
      "52341 5 03132\n",
      "52413 5 02132\n",
      "52431 4 0213\n",
      "53124 4 0123\n",
      "53142 5 03123\n",
      "53214 3 012\n",
      "53241 4 0312\n",
      "53412 4 0212\n",
      "53421 5 02123\n",
      "54123 2 02\n",
      "54132 3 032\n",
      "54213 3 023\n",
      "54231 4 0323\n",
      "54312 2 03\n",
      "54321 1 0\n"
     ]
    }
   ],
   "source": [
    "N = 5\n",
    "c = 3\n",
    "permutations(N, c)"
   ]
  },
  {
   "cell_type": "markdown",
   "metadata": {},
   "source": [
    "Este código es basado de:\n",
    "* http://www.pd4cs.org/program-algorithms_6_pancake-py/"
   ]
  }
 ],
 "metadata": {
  "kernelspec": {
   "display_name": "Python 3",
   "language": "python",
   "name": "python3"
  },
  "language_info": {
   "codemirror_mode": {
    "name": "ipython",
    "version": 3
   },
   "file_extension": ".py",
   "mimetype": "text/x-python",
   "name": "python",
   "nbconvert_exporter": "python",
   "pygments_lexer": "ipython3",
   "version": "3.6.5"
  }
 },
 "nbformat": 4,
 "nbformat_minor": 2
}
