{
 "cells": [
  {
   "cell_type": "code",
   "execution_count": 1,
   "metadata": {},
   "outputs": [],
   "source": [
    "import itertools\n",
    "\n",
    "# almacena los flips\n",
    "flips = []\n",
    "\n",
    "# elimina los espacios\n",
    "def spaces(array):\n",
    "    string = \"\"\n",
    "    for j in range(0, len(array)):\n",
    "        string = string + str(array[j]) + \"\"\n",
    "    return string\n",
    "\n",
    "def flip(pancakes, position):\n",
    "    top_cakes = pancakes[0:position + 1]\n",
    "    top_cakes.reverse()\n",
    "    bottom_cakes = pancakes[position + 1:]\n",
    "    flips.append(len(bottom_cakes))\n",
    "    return top_cakes + bottom_cakes\n",
    "\n",
    "def arrayPancake(pancakes):\n",
    "    # longitud del arreglo\n",
    "    len_pancakes = len(pancakes)\n",
    "\n",
    "    # cantidad de flips\n",
    "    count = 0\n",
    "    \n",
    "    while len_pancakes != 1:\n",
    "        # mira si el ultimo valor es el mayor\n",
    "        if (len_pancakes != (pancakes.index(len_pancakes) + 1)):\n",
    "            # mira si el mayor no esta en la posicion 0\n",
    "            if (pancakes.index(len_pancakes) != 0):\n",
    "                pos = pancakes.index(len_pancakes)\n",
    "                pancakes = flip(pancakes, pancakes.index(len_pancakes))                \n",
    "                count += 1\n",
    "\n",
    "            # el mayor esta ordenado, mira los siguientes\n",
    "            pancakes = flip(pancakes, len_pancakes - 1)\n",
    "            count += 1\n",
    "            len_pancakes -= 1\n",
    "        else:\n",
    "            len_pancakes -= 1\n",
    "\n",
    "    return count\n",
    "\n",
    "def permutations(N, c):\n",
    "    array = list(range(1, N + 1))\n",
    "    print (\"Pn = \", N)\n",
    "    for i in itertools.permutations(array, N):\n",
    "        i = list(i)\n",
    "\n",
    "        # total de flips\n",
    "        total_flips = arrayPancake(i)\n",
    "        # array original\n",
    "        array_original = spaces(i)\n",
    "        # flips\n",
    "        res_flips = spaces(flips)\n",
    "        \n",
    "        flips.clear()\n",
    "\n",
    "        if c == 1:\n",
    "            # Escribe Pn y todas las permutaciones que requieren Pn pasos\n",
    "            if total_flips == N:\n",
    "                print (array_original)\n",
    "        elif c == 2:\n",
    "            # Escribe Pn con todas las permutaciones y sus flips\n",
    "            print (array_original, res_flips)\n",
    "        elif c > 2:\n",
    "            # Escribe Pn con todas las permutaciones, total de pasos y sus flips\n",
    "            print (array_original, total_flips, res_flips)"
   ]
  },
  {
   "cell_type": "code",
   "execution_count": 2,
   "metadata": {},
   "outputs": [
    {
     "name": "stdout",
     "output_type": "stream",
     "text": [
      "Pn =  3\n",
      "123 \n",
      "132 101\n",
      "213 1\n",
      "231 10\n",
      "312 01\n",
      "321 0\n"
     ]
    }
   ],
   "source": [
    "N = 3\n",
    "c = 2\n",
    "permutations(N, c)"
   ]
  },
  {
   "cell_type": "code",
   "execution_count": null,
   "metadata": {},
   "outputs": [],
   "source": []
  }
 ],
 "metadata": {
  "kernelspec": {
   "display_name": "Python 3",
   "language": "python",
   "name": "python3"
  },
  "language_info": {
   "codemirror_mode": {
    "name": "ipython",
    "version": 3
   },
   "file_extension": ".py",
   "mimetype": "text/x-python",
   "name": "python",
   "nbconvert_exporter": "python",
   "pygments_lexer": "ipython3",
   "version": "3.6.5"
  }
 },
 "nbformat": 4,
 "nbformat_minor": 2
}
